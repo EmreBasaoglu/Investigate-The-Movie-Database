{
 "cells": [
  {
   "cell_type": "code",
   "execution_count": 1,
   "id": "d1349c8d-4ad4-4096-84b6-55888895be56",
   "metadata": {
    "tags": []
   },
   "outputs": [],
   "source": [
    "import pandas as pd\n",
    "import matplotlib.pyplot as plt\n",
    "import seaborn as sns\n",
    "%matplotlib inline"
   ]
  },
  {
   "cell_type": "code",
   "execution_count": 2,
   "id": "12b5defe-deaa-48cc-8239-ae3489bdf7a5",
   "metadata": {
    "tags": []
   },
   "outputs": [],
   "source": [
    "df=pd.read_csv(\"C:/Users/GHOST-V3/EMRE/Github için proje/tmdb/tmdb-movies.csv\")"
   ]
  },
  {
   "cell_type": "code",
   "execution_count": 3,
   "id": "eb480f05-0ded-4af5-acd8-75dbbe329747",
   "metadata": {
    "tags": []
   },
   "outputs": [
    {
     "name": "stdout",
     "output_type": "stream",
     "text": [
      "(10866, 21)\n"
     ]
    },
    {
     "data": {
      "text/html": [
       "<div>\n",
       "<style scoped>\n",
       "    .dataframe tbody tr th:only-of-type {\n",
       "        vertical-align: middle;\n",
       "    }\n",
       "\n",
       "    .dataframe tbody tr th {\n",
       "        vertical-align: top;\n",
       "    }\n",
       "\n",
       "    .dataframe thead th {\n",
       "        text-align: right;\n",
       "    }\n",
       "</style>\n",
       "<table border=\"1\" class=\"dataframe\">\n",
       "  <thead>\n",
       "    <tr style=\"text-align: right;\">\n",
       "      <th></th>\n",
       "      <th>id</th>\n",
       "      <th>imdb_id</th>\n",
       "      <th>popularity</th>\n",
       "      <th>budget</th>\n",
       "      <th>revenue</th>\n",
       "      <th>original_title</th>\n",
       "      <th>cast</th>\n",
       "      <th>homepage</th>\n",
       "      <th>director</th>\n",
       "      <th>tagline</th>\n",
       "      <th>keywords</th>\n",
       "      <th>overview</th>\n",
       "      <th>runtime</th>\n",
       "      <th>genres</th>\n",
       "      <th>production_companies</th>\n",
       "      <th>release_date</th>\n",
       "      <th>vote_count</th>\n",
       "      <th>vote_average</th>\n",
       "      <th>release_year</th>\n",
       "      <th>budget_adj</th>\n",
       "      <th>revenue_adj</th>\n",
       "    </tr>\n",
       "  </thead>\n",
       "  <tbody>\n",
       "    <tr>\n",
       "      <th>0</th>\n",
       "      <td>135397</td>\n",
       "      <td>tt0369610</td>\n",
       "      <td>32.985763</td>\n",
       "      <td>150000000</td>\n",
       "      <td>1513528810</td>\n",
       "      <td>Jurassic World</td>\n",
       "      <td>Chris Pratt|Bryce Dallas Howard|Irrfan Khan|Vi...</td>\n",
       "      <td>http://www.jurassicworld.com/</td>\n",
       "      <td>Colin Trevorrow</td>\n",
       "      <td>The park is open.</td>\n",
       "      <td>monster|dna|tyrannosaurus rex|velociraptor|island</td>\n",
       "      <td>Twenty-two years after the events of Jurassic ...</td>\n",
       "      <td>124</td>\n",
       "      <td>Action|Adventure|Science Fiction|Thriller</td>\n",
       "      <td>Universal Studios|Amblin Entertainment|Legenda...</td>\n",
       "      <td>6/9/15</td>\n",
       "      <td>5562</td>\n",
       "      <td>6.5</td>\n",
       "      <td>2015</td>\n",
       "      <td>1.379999e+08</td>\n",
       "      <td>1.392446e+09</td>\n",
       "    </tr>\n",
       "    <tr>\n",
       "      <th>1</th>\n",
       "      <td>76341</td>\n",
       "      <td>tt1392190</td>\n",
       "      <td>28.419936</td>\n",
       "      <td>150000000</td>\n",
       "      <td>378436354</td>\n",
       "      <td>Mad Max: Fury Road</td>\n",
       "      <td>Tom Hardy|Charlize Theron|Hugh Keays-Byrne|Nic...</td>\n",
       "      <td>http://www.madmaxmovie.com/</td>\n",
       "      <td>George Miller</td>\n",
       "      <td>What a Lovely Day.</td>\n",
       "      <td>future|chase|post-apocalyptic|dystopia|australia</td>\n",
       "      <td>An apocalyptic story set in the furthest reach...</td>\n",
       "      <td>120</td>\n",
       "      <td>Action|Adventure|Science Fiction|Thriller</td>\n",
       "      <td>Village Roadshow Pictures|Kennedy Miller Produ...</td>\n",
       "      <td>5/13/15</td>\n",
       "      <td>6185</td>\n",
       "      <td>7.1</td>\n",
       "      <td>2015</td>\n",
       "      <td>1.379999e+08</td>\n",
       "      <td>3.481613e+08</td>\n",
       "    </tr>\n",
       "    <tr>\n",
       "      <th>2</th>\n",
       "      <td>262500</td>\n",
       "      <td>tt2908446</td>\n",
       "      <td>13.112507</td>\n",
       "      <td>110000000</td>\n",
       "      <td>295238201</td>\n",
       "      <td>Insurgent</td>\n",
       "      <td>Shailene Woodley|Theo James|Kate Winslet|Ansel...</td>\n",
       "      <td>http://www.thedivergentseries.movie/#insurgent</td>\n",
       "      <td>Robert Schwentke</td>\n",
       "      <td>One Choice Can Destroy You</td>\n",
       "      <td>based on novel|revolution|dystopia|sequel|dyst...</td>\n",
       "      <td>Beatrice Prior must confront her inner demons ...</td>\n",
       "      <td>119</td>\n",
       "      <td>Adventure|Science Fiction|Thriller</td>\n",
       "      <td>Summit Entertainment|Mandeville Films|Red Wago...</td>\n",
       "      <td>3/18/15</td>\n",
       "      <td>2480</td>\n",
       "      <td>6.3</td>\n",
       "      <td>2015</td>\n",
       "      <td>1.012000e+08</td>\n",
       "      <td>2.716190e+08</td>\n",
       "    </tr>\n",
       "    <tr>\n",
       "      <th>3</th>\n",
       "      <td>140607</td>\n",
       "      <td>tt2488496</td>\n",
       "      <td>11.173104</td>\n",
       "      <td>200000000</td>\n",
       "      <td>2068178225</td>\n",
       "      <td>Star Wars: The Force Awakens</td>\n",
       "      <td>Harrison Ford|Mark Hamill|Carrie Fisher|Adam D...</td>\n",
       "      <td>http://www.starwars.com/films/star-wars-episod...</td>\n",
       "      <td>J.J. Abrams</td>\n",
       "      <td>Every generation has a story.</td>\n",
       "      <td>android|spaceship|jedi|space opera|3d</td>\n",
       "      <td>Thirty years after defeating the Galactic Empi...</td>\n",
       "      <td>136</td>\n",
       "      <td>Action|Adventure|Science Fiction|Fantasy</td>\n",
       "      <td>Lucasfilm|Truenorth Productions|Bad Robot</td>\n",
       "      <td>12/15/15</td>\n",
       "      <td>5292</td>\n",
       "      <td>7.5</td>\n",
       "      <td>2015</td>\n",
       "      <td>1.839999e+08</td>\n",
       "      <td>1.902723e+09</td>\n",
       "    </tr>\n",
       "    <tr>\n",
       "      <th>4</th>\n",
       "      <td>168259</td>\n",
       "      <td>tt2820852</td>\n",
       "      <td>9.335014</td>\n",
       "      <td>190000000</td>\n",
       "      <td>1506249360</td>\n",
       "      <td>Furious 7</td>\n",
       "      <td>Vin Diesel|Paul Walker|Jason Statham|Michelle ...</td>\n",
       "      <td>http://www.furious7.com/</td>\n",
       "      <td>James Wan</td>\n",
       "      <td>Vengeance Hits Home</td>\n",
       "      <td>car race|speed|revenge|suspense|car</td>\n",
       "      <td>Deckard Shaw seeks revenge against Dominic Tor...</td>\n",
       "      <td>137</td>\n",
       "      <td>Action|Crime|Thriller</td>\n",
       "      <td>Universal Pictures|Original Film|Media Rights ...</td>\n",
       "      <td>4/1/15</td>\n",
       "      <td>2947</td>\n",
       "      <td>7.3</td>\n",
       "      <td>2015</td>\n",
       "      <td>1.747999e+08</td>\n",
       "      <td>1.385749e+09</td>\n",
       "    </tr>\n",
       "    <tr>\n",
       "      <th>5</th>\n",
       "      <td>281957</td>\n",
       "      <td>tt1663202</td>\n",
       "      <td>9.110700</td>\n",
       "      <td>135000000</td>\n",
       "      <td>532950503</td>\n",
       "      <td>The Revenant</td>\n",
       "      <td>Leonardo DiCaprio|Tom Hardy|Will Poulter|Domhn...</td>\n",
       "      <td>http://www.foxmovies.com/movies/the-revenant</td>\n",
       "      <td>Alejandro GonzÃ¡lez IÃ±Ã¡rritu</td>\n",
       "      <td>(n. One who has returned, as if from the dead.)</td>\n",
       "      <td>father-son relationship|rape|based on novel|mo...</td>\n",
       "      <td>In the 1820s, a frontiersman, Hugh Glass, sets...</td>\n",
       "      <td>156</td>\n",
       "      <td>Western|Drama|Adventure|Thriller</td>\n",
       "      <td>Regency Enterprises|Appian Way|CatchPlay|Anony...</td>\n",
       "      <td>12/25/15</td>\n",
       "      <td>3929</td>\n",
       "      <td>7.2</td>\n",
       "      <td>2015</td>\n",
       "      <td>1.241999e+08</td>\n",
       "      <td>4.903142e+08</td>\n",
       "    </tr>\n",
       "    <tr>\n",
       "      <th>6</th>\n",
       "      <td>87101</td>\n",
       "      <td>tt1340138</td>\n",
       "      <td>8.654359</td>\n",
       "      <td>155000000</td>\n",
       "      <td>440603537</td>\n",
       "      <td>Terminator Genisys</td>\n",
       "      <td>Arnold Schwarzenegger|Jason Clarke|Emilia Clar...</td>\n",
       "      <td>http://www.terminatormovie.com/</td>\n",
       "      <td>Alan Taylor</td>\n",
       "      <td>Reset the future</td>\n",
       "      <td>saving the world|artificial intelligence|cybor...</td>\n",
       "      <td>The year is 2029. John Connor, leader of the r...</td>\n",
       "      <td>125</td>\n",
       "      <td>Science Fiction|Action|Thriller|Adventure</td>\n",
       "      <td>Paramount Pictures|Skydance Productions</td>\n",
       "      <td>6/23/15</td>\n",
       "      <td>2598</td>\n",
       "      <td>5.8</td>\n",
       "      <td>2015</td>\n",
       "      <td>1.425999e+08</td>\n",
       "      <td>4.053551e+08</td>\n",
       "    </tr>\n",
       "    <tr>\n",
       "      <th>7</th>\n",
       "      <td>286217</td>\n",
       "      <td>tt3659388</td>\n",
       "      <td>7.667400</td>\n",
       "      <td>108000000</td>\n",
       "      <td>595380321</td>\n",
       "      <td>The Martian</td>\n",
       "      <td>Matt Damon|Jessica Chastain|Kristen Wiig|Jeff ...</td>\n",
       "      <td>http://www.foxmovies.com/movies/the-martian</td>\n",
       "      <td>Ridley Scott</td>\n",
       "      <td>Bring Him Home</td>\n",
       "      <td>based on novel|mars|nasa|isolation|botanist</td>\n",
       "      <td>During a manned mission to Mars, Astronaut Mar...</td>\n",
       "      <td>141</td>\n",
       "      <td>Drama|Adventure|Science Fiction</td>\n",
       "      <td>Twentieth Century Fox Film Corporation|Scott F...</td>\n",
       "      <td>9/30/15</td>\n",
       "      <td>4572</td>\n",
       "      <td>7.6</td>\n",
       "      <td>2015</td>\n",
       "      <td>9.935996e+07</td>\n",
       "      <td>5.477497e+08</td>\n",
       "    </tr>\n",
       "    <tr>\n",
       "      <th>8</th>\n",
       "      <td>211672</td>\n",
       "      <td>tt2293640</td>\n",
       "      <td>7.404165</td>\n",
       "      <td>74000000</td>\n",
       "      <td>1156730962</td>\n",
       "      <td>Minions</td>\n",
       "      <td>Sandra Bullock|Jon Hamm|Michael Keaton|Allison...</td>\n",
       "      <td>http://www.minionsmovie.com/</td>\n",
       "      <td>Kyle Balda|Pierre Coffin</td>\n",
       "      <td>Before Gru, they had a history of bad bosses</td>\n",
       "      <td>assistant|aftercreditsstinger|duringcreditssti...</td>\n",
       "      <td>Minions Stuart, Kevin and Bob are recruited by...</td>\n",
       "      <td>91</td>\n",
       "      <td>Family|Animation|Adventure|Comedy</td>\n",
       "      <td>Universal Pictures|Illumination Entertainment</td>\n",
       "      <td>6/17/15</td>\n",
       "      <td>2893</td>\n",
       "      <td>6.5</td>\n",
       "      <td>2015</td>\n",
       "      <td>6.807997e+07</td>\n",
       "      <td>1.064192e+09</td>\n",
       "    </tr>\n",
       "    <tr>\n",
       "      <th>9</th>\n",
       "      <td>150540</td>\n",
       "      <td>tt2096673</td>\n",
       "      <td>6.326804</td>\n",
       "      <td>175000000</td>\n",
       "      <td>853708609</td>\n",
       "      <td>Inside Out</td>\n",
       "      <td>Amy Poehler|Phyllis Smith|Richard Kind|Bill Ha...</td>\n",
       "      <td>http://movies.disney.com/inside-out</td>\n",
       "      <td>Pete Docter</td>\n",
       "      <td>Meet the little voices inside your head.</td>\n",
       "      <td>dream|cartoon|imaginary friend|animation|kid</td>\n",
       "      <td>Growing up can be a bumpy road, and it's no ex...</td>\n",
       "      <td>94</td>\n",
       "      <td>Comedy|Animation|Family</td>\n",
       "      <td>Walt Disney Pictures|Pixar Animation Studios|W...</td>\n",
       "      <td>6/9/15</td>\n",
       "      <td>3935</td>\n",
       "      <td>8.0</td>\n",
       "      <td>2015</td>\n",
       "      <td>1.609999e+08</td>\n",
       "      <td>7.854116e+08</td>\n",
       "    </tr>\n",
       "    <tr>\n",
       "      <th>10</th>\n",
       "      <td>206647</td>\n",
       "      <td>tt2379713</td>\n",
       "      <td>6.200282</td>\n",
       "      <td>245000000</td>\n",
       "      <td>880674609</td>\n",
       "      <td>Spectre</td>\n",
       "      <td>Daniel Craig|Christoph Waltz|LÃ©a Seydoux|Ralp...</td>\n",
       "      <td>http://www.sonypictures.com/movies/spectre/</td>\n",
       "      <td>Sam Mendes</td>\n",
       "      <td>A Plan No One Escapes</td>\n",
       "      <td>spy|based on novel|secret agent|sequel|james bond</td>\n",
       "      <td>A cryptic message from Bondâ€™s past sends him...</td>\n",
       "      <td>148</td>\n",
       "      <td>Action|Adventure|Crime</td>\n",
       "      <td>Columbia Pictures|Danjaq|B24</td>\n",
       "      <td>10/26/15</td>\n",
       "      <td>3254</td>\n",
       "      <td>6.2</td>\n",
       "      <td>2015</td>\n",
       "      <td>2.253999e+08</td>\n",
       "      <td>8.102203e+08</td>\n",
       "    </tr>\n",
       "    <tr>\n",
       "      <th>11</th>\n",
       "      <td>76757</td>\n",
       "      <td>tt1617661</td>\n",
       "      <td>6.189369</td>\n",
       "      <td>176000003</td>\n",
       "      <td>183987723</td>\n",
       "      <td>Jupiter Ascending</td>\n",
       "      <td>Mila Kunis|Channing Tatum|Sean Bean|Eddie Redm...</td>\n",
       "      <td>http://www.jupiterascending.com</td>\n",
       "      <td>Lana Wachowski|Lilly Wachowski</td>\n",
       "      <td>Expand your universe.</td>\n",
       "      <td>jupiter|space|woman director|3d|interspecies r...</td>\n",
       "      <td>In a universe where human genetic material is ...</td>\n",
       "      <td>124</td>\n",
       "      <td>Science Fiction|Fantasy|Action|Adventure</td>\n",
       "      <td>Village Roadshow Pictures|Dune Entertainment|A...</td>\n",
       "      <td>2/4/15</td>\n",
       "      <td>1937</td>\n",
       "      <td>5.2</td>\n",
       "      <td>2015</td>\n",
       "      <td>1.619199e+08</td>\n",
       "      <td>1.692686e+08</td>\n",
       "    </tr>\n",
       "    <tr>\n",
       "      <th>12</th>\n",
       "      <td>264660</td>\n",
       "      <td>tt0470752</td>\n",
       "      <td>6.118847</td>\n",
       "      <td>15000000</td>\n",
       "      <td>36869414</td>\n",
       "      <td>Ex Machina</td>\n",
       "      <td>Domhnall Gleeson|Alicia Vikander|Oscar Isaac|S...</td>\n",
       "      <td>http://exmachina-movie.com/</td>\n",
       "      <td>Alex Garland</td>\n",
       "      <td>There is nothing more human than the will to s...</td>\n",
       "      <td>dancing|artificial intelligence|helicopter|dis...</td>\n",
       "      <td>Caleb, a 26 year old coder at the world's larg...</td>\n",
       "      <td>108</td>\n",
       "      <td>Drama|Science Fiction</td>\n",
       "      <td>DNA Films|Universal Pictures International (UP...</td>\n",
       "      <td>1/21/15</td>\n",
       "      <td>2854</td>\n",
       "      <td>7.6</td>\n",
       "      <td>2015</td>\n",
       "      <td>1.379999e+07</td>\n",
       "      <td>3.391985e+07</td>\n",
       "    </tr>\n",
       "    <tr>\n",
       "      <th>13</th>\n",
       "      <td>257344</td>\n",
       "      <td>tt2120120</td>\n",
       "      <td>5.984995</td>\n",
       "      <td>88000000</td>\n",
       "      <td>243637091</td>\n",
       "      <td>Pixels</td>\n",
       "      <td>Adam Sandler|Michelle Monaghan|Peter Dinklage|...</td>\n",
       "      <td>http://www.pixels-movie.com/</td>\n",
       "      <td>Chris Columbus</td>\n",
       "      <td>Game On.</td>\n",
       "      <td>video game|nerd|alien attack|3d|pixels</td>\n",
       "      <td>Video game experts are recruited by the milita...</td>\n",
       "      <td>105</td>\n",
       "      <td>Action|Comedy|Science Fiction</td>\n",
       "      <td>Columbia Pictures|Happy Madison Productions</td>\n",
       "      <td>7/16/15</td>\n",
       "      <td>1575</td>\n",
       "      <td>5.8</td>\n",
       "      <td>2015</td>\n",
       "      <td>8.095996e+07</td>\n",
       "      <td>2.241460e+08</td>\n",
       "    </tr>\n",
       "    <tr>\n",
       "      <th>14</th>\n",
       "      <td>99861</td>\n",
       "      <td>tt2395427</td>\n",
       "      <td>5.944927</td>\n",
       "      <td>280000000</td>\n",
       "      <td>1405035767</td>\n",
       "      <td>Avengers: Age of Ultron</td>\n",
       "      <td>Robert Downey Jr.|Chris Hemsworth|Mark Ruffalo...</td>\n",
       "      <td>http://marvel.com/movies/movie/193/avengers_ag...</td>\n",
       "      <td>Joss Whedon</td>\n",
       "      <td>A New Age Has Come.</td>\n",
       "      <td>marvel comic|comic|sequel|superhero|vision</td>\n",
       "      <td>When Tony Stark tries to jumpstart a dormant p...</td>\n",
       "      <td>141</td>\n",
       "      <td>Action|Adventure|Science Fiction</td>\n",
       "      <td>Marvel Studios|Prime Focus|Revolution Sun Studios</td>\n",
       "      <td>4/22/15</td>\n",
       "      <td>4304</td>\n",
       "      <td>7.4</td>\n",
       "      <td>2015</td>\n",
       "      <td>2.575999e+08</td>\n",
       "      <td>1.292632e+09</td>\n",
       "    </tr>\n",
       "  </tbody>\n",
       "</table>\n",
       "</div>"
      ],
      "text/plain": [
       "        id    imdb_id  popularity     budget     revenue  \\\n",
       "0   135397  tt0369610   32.985763  150000000  1513528810   \n",
       "1    76341  tt1392190   28.419936  150000000   378436354   \n",
       "2   262500  tt2908446   13.112507  110000000   295238201   \n",
       "3   140607  tt2488496   11.173104  200000000  2068178225   \n",
       "4   168259  tt2820852    9.335014  190000000  1506249360   \n",
       "5   281957  tt1663202    9.110700  135000000   532950503   \n",
       "6    87101  tt1340138    8.654359  155000000   440603537   \n",
       "7   286217  tt3659388    7.667400  108000000   595380321   \n",
       "8   211672  tt2293640    7.404165   74000000  1156730962   \n",
       "9   150540  tt2096673    6.326804  175000000   853708609   \n",
       "10  206647  tt2379713    6.200282  245000000   880674609   \n",
       "11   76757  tt1617661    6.189369  176000003   183987723   \n",
       "12  264660  tt0470752    6.118847   15000000    36869414   \n",
       "13  257344  tt2120120    5.984995   88000000   243637091   \n",
       "14   99861  tt2395427    5.944927  280000000  1405035767   \n",
       "\n",
       "                  original_title  \\\n",
       "0                 Jurassic World   \n",
       "1             Mad Max: Fury Road   \n",
       "2                      Insurgent   \n",
       "3   Star Wars: The Force Awakens   \n",
       "4                      Furious 7   \n",
       "5                   The Revenant   \n",
       "6             Terminator Genisys   \n",
       "7                    The Martian   \n",
       "8                        Minions   \n",
       "9                     Inside Out   \n",
       "10                       Spectre   \n",
       "11             Jupiter Ascending   \n",
       "12                    Ex Machina   \n",
       "13                        Pixels   \n",
       "14       Avengers: Age of Ultron   \n",
       "\n",
       "                                                 cast  \\\n",
       "0   Chris Pratt|Bryce Dallas Howard|Irrfan Khan|Vi...   \n",
       "1   Tom Hardy|Charlize Theron|Hugh Keays-Byrne|Nic...   \n",
       "2   Shailene Woodley|Theo James|Kate Winslet|Ansel...   \n",
       "3   Harrison Ford|Mark Hamill|Carrie Fisher|Adam D...   \n",
       "4   Vin Diesel|Paul Walker|Jason Statham|Michelle ...   \n",
       "5   Leonardo DiCaprio|Tom Hardy|Will Poulter|Domhn...   \n",
       "6   Arnold Schwarzenegger|Jason Clarke|Emilia Clar...   \n",
       "7   Matt Damon|Jessica Chastain|Kristen Wiig|Jeff ...   \n",
       "8   Sandra Bullock|Jon Hamm|Michael Keaton|Allison...   \n",
       "9   Amy Poehler|Phyllis Smith|Richard Kind|Bill Ha...   \n",
       "10  Daniel Craig|Christoph Waltz|LÃ©a Seydoux|Ralp...   \n",
       "11  Mila Kunis|Channing Tatum|Sean Bean|Eddie Redm...   \n",
       "12  Domhnall Gleeson|Alicia Vikander|Oscar Isaac|S...   \n",
       "13  Adam Sandler|Michelle Monaghan|Peter Dinklage|...   \n",
       "14  Robert Downey Jr.|Chris Hemsworth|Mark Ruffalo...   \n",
       "\n",
       "                                             homepage  \\\n",
       "0                       http://www.jurassicworld.com/   \n",
       "1                         http://www.madmaxmovie.com/   \n",
       "2      http://www.thedivergentseries.movie/#insurgent   \n",
       "3   http://www.starwars.com/films/star-wars-episod...   \n",
       "4                            http://www.furious7.com/   \n",
       "5        http://www.foxmovies.com/movies/the-revenant   \n",
       "6                     http://www.terminatormovie.com/   \n",
       "7         http://www.foxmovies.com/movies/the-martian   \n",
       "8                        http://www.minionsmovie.com/   \n",
       "9                 http://movies.disney.com/inside-out   \n",
       "10        http://www.sonypictures.com/movies/spectre/   \n",
       "11                    http://www.jupiterascending.com   \n",
       "12                        http://exmachina-movie.com/   \n",
       "13                       http://www.pixels-movie.com/   \n",
       "14  http://marvel.com/movies/movie/193/avengers_ag...   \n",
       "\n",
       "                          director  \\\n",
       "0                  Colin Trevorrow   \n",
       "1                    George Miller   \n",
       "2                 Robert Schwentke   \n",
       "3                      J.J. Abrams   \n",
       "4                        James Wan   \n",
       "5   Alejandro GonzÃ¡lez IÃ±Ã¡rritu   \n",
       "6                      Alan Taylor   \n",
       "7                     Ridley Scott   \n",
       "8         Kyle Balda|Pierre Coffin   \n",
       "9                      Pete Docter   \n",
       "10                      Sam Mendes   \n",
       "11  Lana Wachowski|Lilly Wachowski   \n",
       "12                    Alex Garland   \n",
       "13                  Chris Columbus   \n",
       "14                     Joss Whedon   \n",
       "\n",
       "                                              tagline  \\\n",
       "0                                   The park is open.   \n",
       "1                                  What a Lovely Day.   \n",
       "2                          One Choice Can Destroy You   \n",
       "3                       Every generation has a story.   \n",
       "4                                 Vengeance Hits Home   \n",
       "5     (n. One who has returned, as if from the dead.)   \n",
       "6                                    Reset the future   \n",
       "7                                      Bring Him Home   \n",
       "8        Before Gru, they had a history of bad bosses   \n",
       "9            Meet the little voices inside your head.   \n",
       "10                              A Plan No One Escapes   \n",
       "11                              Expand your universe.   \n",
       "12  There is nothing more human than the will to s...   \n",
       "13                                           Game On.   \n",
       "14                                A New Age Has Come.   \n",
       "\n",
       "                                             keywords  \\\n",
       "0   monster|dna|tyrannosaurus rex|velociraptor|island   \n",
       "1    future|chase|post-apocalyptic|dystopia|australia   \n",
       "2   based on novel|revolution|dystopia|sequel|dyst...   \n",
       "3               android|spaceship|jedi|space opera|3d   \n",
       "4                 car race|speed|revenge|suspense|car   \n",
       "5   father-son relationship|rape|based on novel|mo...   \n",
       "6   saving the world|artificial intelligence|cybor...   \n",
       "7         based on novel|mars|nasa|isolation|botanist   \n",
       "8   assistant|aftercreditsstinger|duringcreditssti...   \n",
       "9        dream|cartoon|imaginary friend|animation|kid   \n",
       "10  spy|based on novel|secret agent|sequel|james bond   \n",
       "11  jupiter|space|woman director|3d|interspecies r...   \n",
       "12  dancing|artificial intelligence|helicopter|dis...   \n",
       "13             video game|nerd|alien attack|3d|pixels   \n",
       "14         marvel comic|comic|sequel|superhero|vision   \n",
       "\n",
       "                                             overview  runtime  \\\n",
       "0   Twenty-two years after the events of Jurassic ...      124   \n",
       "1   An apocalyptic story set in the furthest reach...      120   \n",
       "2   Beatrice Prior must confront her inner demons ...      119   \n",
       "3   Thirty years after defeating the Galactic Empi...      136   \n",
       "4   Deckard Shaw seeks revenge against Dominic Tor...      137   \n",
       "5   In the 1820s, a frontiersman, Hugh Glass, sets...      156   \n",
       "6   The year is 2029. John Connor, leader of the r...      125   \n",
       "7   During a manned mission to Mars, Astronaut Mar...      141   \n",
       "8   Minions Stuart, Kevin and Bob are recruited by...       91   \n",
       "9   Growing up can be a bumpy road, and it's no ex...       94   \n",
       "10  A cryptic message from Bondâ€™s past sends him...      148   \n",
       "11  In a universe where human genetic material is ...      124   \n",
       "12  Caleb, a 26 year old coder at the world's larg...      108   \n",
       "13  Video game experts are recruited by the milita...      105   \n",
       "14  When Tony Stark tries to jumpstart a dormant p...      141   \n",
       "\n",
       "                                       genres  \\\n",
       "0   Action|Adventure|Science Fiction|Thriller   \n",
       "1   Action|Adventure|Science Fiction|Thriller   \n",
       "2          Adventure|Science Fiction|Thriller   \n",
       "3    Action|Adventure|Science Fiction|Fantasy   \n",
       "4                       Action|Crime|Thriller   \n",
       "5            Western|Drama|Adventure|Thriller   \n",
       "6   Science Fiction|Action|Thriller|Adventure   \n",
       "7             Drama|Adventure|Science Fiction   \n",
       "8           Family|Animation|Adventure|Comedy   \n",
       "9                     Comedy|Animation|Family   \n",
       "10                     Action|Adventure|Crime   \n",
       "11   Science Fiction|Fantasy|Action|Adventure   \n",
       "12                      Drama|Science Fiction   \n",
       "13              Action|Comedy|Science Fiction   \n",
       "14           Action|Adventure|Science Fiction   \n",
       "\n",
       "                                 production_companies release_date  \\\n",
       "0   Universal Studios|Amblin Entertainment|Legenda...       6/9/15   \n",
       "1   Village Roadshow Pictures|Kennedy Miller Produ...      5/13/15   \n",
       "2   Summit Entertainment|Mandeville Films|Red Wago...      3/18/15   \n",
       "3           Lucasfilm|Truenorth Productions|Bad Robot     12/15/15   \n",
       "4   Universal Pictures|Original Film|Media Rights ...       4/1/15   \n",
       "5   Regency Enterprises|Appian Way|CatchPlay|Anony...     12/25/15   \n",
       "6             Paramount Pictures|Skydance Productions      6/23/15   \n",
       "7   Twentieth Century Fox Film Corporation|Scott F...      9/30/15   \n",
       "8       Universal Pictures|Illumination Entertainment      6/17/15   \n",
       "9   Walt Disney Pictures|Pixar Animation Studios|W...       6/9/15   \n",
       "10                       Columbia Pictures|Danjaq|B24     10/26/15   \n",
       "11  Village Roadshow Pictures|Dune Entertainment|A...       2/4/15   \n",
       "12  DNA Films|Universal Pictures International (UP...      1/21/15   \n",
       "13        Columbia Pictures|Happy Madison Productions      7/16/15   \n",
       "14  Marvel Studios|Prime Focus|Revolution Sun Studios      4/22/15   \n",
       "\n",
       "    vote_count  vote_average  release_year    budget_adj   revenue_adj  \n",
       "0         5562           6.5          2015  1.379999e+08  1.392446e+09  \n",
       "1         6185           7.1          2015  1.379999e+08  3.481613e+08  \n",
       "2         2480           6.3          2015  1.012000e+08  2.716190e+08  \n",
       "3         5292           7.5          2015  1.839999e+08  1.902723e+09  \n",
       "4         2947           7.3          2015  1.747999e+08  1.385749e+09  \n",
       "5         3929           7.2          2015  1.241999e+08  4.903142e+08  \n",
       "6         2598           5.8          2015  1.425999e+08  4.053551e+08  \n",
       "7         4572           7.6          2015  9.935996e+07  5.477497e+08  \n",
       "8         2893           6.5          2015  6.807997e+07  1.064192e+09  \n",
       "9         3935           8.0          2015  1.609999e+08  7.854116e+08  \n",
       "10        3254           6.2          2015  2.253999e+08  8.102203e+08  \n",
       "11        1937           5.2          2015  1.619199e+08  1.692686e+08  \n",
       "12        2854           7.6          2015  1.379999e+07  3.391985e+07  \n",
       "13        1575           5.8          2015  8.095996e+07  2.241460e+08  \n",
       "14        4304           7.4          2015  2.575999e+08  1.292632e+09  "
      ]
     },
     "execution_count": 3,
     "metadata": {},
     "output_type": "execute_result"
    }
   ],
   "source": [
    "print(df.shape)\n",
    "pd.options.display.max_columns = 150 \n",
    "df.head(15)"
   ]
  },
  {
   "cell_type": "code",
   "execution_count": 4,
   "id": "a0ee4d7f-2ad2-4bb3-b585-a212750fc7d4",
   "metadata": {
    "tags": []
   },
   "outputs": [],
   "source": [
    "# gereksiz sütunları silme\n",
    "drop_col=['id','imdb_id','homepage','tagline','keywords','overview','production_companies','release_date','budget','revenue']\n",
    "df = df.drop(drop_col, axis=1)\n",
    "\n"
   ]
  },
  {
   "cell_type": "code",
   "execution_count": 5,
   "id": "8e1ec3d5-b8c6-4b23-9ad5-c679512f034e",
   "metadata": {
    "tags": []
   },
   "outputs": [
    {
     "data": {
      "text/html": [
       "<div>\n",
       "<style scoped>\n",
       "    .dataframe tbody tr th:only-of-type {\n",
       "        vertical-align: middle;\n",
       "    }\n",
       "\n",
       "    .dataframe tbody tr th {\n",
       "        vertical-align: top;\n",
       "    }\n",
       "\n",
       "    .dataframe thead th {\n",
       "        text-align: right;\n",
       "    }\n",
       "</style>\n",
       "<table border=\"1\" class=\"dataframe\">\n",
       "  <thead>\n",
       "    <tr style=\"text-align: right;\">\n",
       "      <th></th>\n",
       "      <th>popularity</th>\n",
       "      <th>original_title</th>\n",
       "      <th>cast</th>\n",
       "      <th>director</th>\n",
       "      <th>runtime</th>\n",
       "      <th>genres</th>\n",
       "      <th>vote_count</th>\n",
       "      <th>vote_average</th>\n",
       "      <th>release_year</th>\n",
       "      <th>budget_adj</th>\n",
       "      <th>revenue_adj</th>\n",
       "    </tr>\n",
       "  </thead>\n",
       "  <tbody>\n",
       "    <tr>\n",
       "      <th>0</th>\n",
       "      <td>32.985763</td>\n",
       "      <td>Jurassic World</td>\n",
       "      <td>Chris Pratt|Bryce Dallas Howard|Irrfan Khan|Vi...</td>\n",
       "      <td>Colin Trevorrow</td>\n",
       "      <td>124</td>\n",
       "      <td>Action|Adventure|Science Fiction|Thriller</td>\n",
       "      <td>5562</td>\n",
       "      <td>6.5</td>\n",
       "      <td>2015</td>\n",
       "      <td>1.379999e+08</td>\n",
       "      <td>1.392446e+09</td>\n",
       "    </tr>\n",
       "  </tbody>\n",
       "</table>\n",
       "</div>"
      ],
      "text/plain": [
       "   popularity  original_title  \\\n",
       "0   32.985763  Jurassic World   \n",
       "\n",
       "                                                cast         director  \\\n",
       "0  Chris Pratt|Bryce Dallas Howard|Irrfan Khan|Vi...  Colin Trevorrow   \n",
       "\n",
       "   runtime                                     genres  vote_count  \\\n",
       "0      124  Action|Adventure|Science Fiction|Thriller        5562   \n",
       "\n",
       "   vote_average  release_year    budget_adj   revenue_adj  \n",
       "0           6.5          2015  1.379999e+08  1.392446e+09  "
      ]
     },
     "execution_count": 5,
     "metadata": {},
     "output_type": "execute_result"
    }
   ],
   "source": [
    "df.head(1) "
   ]
  },
  {
   "cell_type": "code",
   "execution_count": 6,
   "id": "7f7800e6-aa9a-4228-ba78-e5567ad84a0c",
   "metadata": {
    "tags": []
   },
   "outputs": [
    {
     "name": "stdout",
     "output_type": "stream",
     "text": [
      "<class 'pandas.core.frame.DataFrame'>\n",
      "RangeIndex: 10866 entries, 0 to 10865\n",
      "Data columns (total 11 columns):\n",
      " #   Column          Non-Null Count  Dtype  \n",
      "---  ------          --------------  -----  \n",
      " 0   popularity      10866 non-null  float64\n",
      " 1   original_title  10866 non-null  object \n",
      " 2   cast            10790 non-null  object \n",
      " 3   director        10822 non-null  object \n",
      " 4   runtime         10866 non-null  int64  \n",
      " 5   genres          10843 non-null  object \n",
      " 6   vote_count      10866 non-null  int64  \n",
      " 7   vote_average    10866 non-null  float64\n",
      " 8   release_year    10866 non-null  int64  \n",
      " 9   budget_adj      10866 non-null  float64\n",
      " 10  revenue_adj     10866 non-null  float64\n",
      "dtypes: float64(4), int64(3), object(4)\n",
      "memory usage: 933.9+ KB\n"
     ]
    }
   ],
   "source": [
    "df.info()\n"
   ]
  },
  {
   "cell_type": "code",
   "execution_count": 7,
   "id": "1050dcc5-b1ef-4d51-adf0-27b76a9bbc9c",
   "metadata": {
    "tags": []
   },
   "outputs": [
    {
     "data": {
      "text/html": [
       "<div>\n",
       "<style scoped>\n",
       "    .dataframe tbody tr th:only-of-type {\n",
       "        vertical-align: middle;\n",
       "    }\n",
       "\n",
       "    .dataframe tbody tr th {\n",
       "        vertical-align: top;\n",
       "    }\n",
       "\n",
       "    .dataframe thead th {\n",
       "        text-align: right;\n",
       "    }\n",
       "</style>\n",
       "<table border=\"1\" class=\"dataframe\">\n",
       "  <thead>\n",
       "    <tr style=\"text-align: right;\">\n",
       "      <th></th>\n",
       "      <th>popularity</th>\n",
       "      <th>original_title</th>\n",
       "      <th>cast</th>\n",
       "      <th>director</th>\n",
       "      <th>runtime</th>\n",
       "      <th>genres</th>\n",
       "      <th>vote_count</th>\n",
       "      <th>vote_average</th>\n",
       "      <th>release_year</th>\n",
       "      <th>budget_adj</th>\n",
       "      <th>revenue_adj</th>\n",
       "    </tr>\n",
       "  </thead>\n",
       "  <tbody>\n",
       "    <tr>\n",
       "      <th>count</th>\n",
       "      <td>10866.000000</td>\n",
       "      <td>10866</td>\n",
       "      <td>10790</td>\n",
       "      <td>10822</td>\n",
       "      <td>10866.000000</td>\n",
       "      <td>10843</td>\n",
       "      <td>10866.000000</td>\n",
       "      <td>10866.000000</td>\n",
       "      <td>10866.000000</td>\n",
       "      <td>1.086600e+04</td>\n",
       "      <td>1.086600e+04</td>\n",
       "    </tr>\n",
       "    <tr>\n",
       "      <th>unique</th>\n",
       "      <td>NaN</td>\n",
       "      <td>10571</td>\n",
       "      <td>10719</td>\n",
       "      <td>5067</td>\n",
       "      <td>NaN</td>\n",
       "      <td>2039</td>\n",
       "      <td>NaN</td>\n",
       "      <td>NaN</td>\n",
       "      <td>NaN</td>\n",
       "      <td>NaN</td>\n",
       "      <td>NaN</td>\n",
       "    </tr>\n",
       "    <tr>\n",
       "      <th>top</th>\n",
       "      <td>NaN</td>\n",
       "      <td>Hamlet</td>\n",
       "      <td>Louis C.K.</td>\n",
       "      <td>Woody Allen</td>\n",
       "      <td>NaN</td>\n",
       "      <td>Comedy</td>\n",
       "      <td>NaN</td>\n",
       "      <td>NaN</td>\n",
       "      <td>NaN</td>\n",
       "      <td>NaN</td>\n",
       "      <td>NaN</td>\n",
       "    </tr>\n",
       "    <tr>\n",
       "      <th>freq</th>\n",
       "      <td>NaN</td>\n",
       "      <td>4</td>\n",
       "      <td>6</td>\n",
       "      <td>45</td>\n",
       "      <td>NaN</td>\n",
       "      <td>712</td>\n",
       "      <td>NaN</td>\n",
       "      <td>NaN</td>\n",
       "      <td>NaN</td>\n",
       "      <td>NaN</td>\n",
       "      <td>NaN</td>\n",
       "    </tr>\n",
       "    <tr>\n",
       "      <th>mean</th>\n",
       "      <td>0.646441</td>\n",
       "      <td>NaN</td>\n",
       "      <td>NaN</td>\n",
       "      <td>NaN</td>\n",
       "      <td>102.070863</td>\n",
       "      <td>NaN</td>\n",
       "      <td>217.389748</td>\n",
       "      <td>5.974922</td>\n",
       "      <td>2001.322658</td>\n",
       "      <td>1.755104e+07</td>\n",
       "      <td>5.136436e+07</td>\n",
       "    </tr>\n",
       "    <tr>\n",
       "      <th>std</th>\n",
       "      <td>1.000185</td>\n",
       "      <td>NaN</td>\n",
       "      <td>NaN</td>\n",
       "      <td>NaN</td>\n",
       "      <td>31.381405</td>\n",
       "      <td>NaN</td>\n",
       "      <td>575.619058</td>\n",
       "      <td>0.935142</td>\n",
       "      <td>12.812941</td>\n",
       "      <td>3.430616e+07</td>\n",
       "      <td>1.446325e+08</td>\n",
       "    </tr>\n",
       "    <tr>\n",
       "      <th>min</th>\n",
       "      <td>0.000065</td>\n",
       "      <td>NaN</td>\n",
       "      <td>NaN</td>\n",
       "      <td>NaN</td>\n",
       "      <td>0.000000</td>\n",
       "      <td>NaN</td>\n",
       "      <td>10.000000</td>\n",
       "      <td>1.500000</td>\n",
       "      <td>1960.000000</td>\n",
       "      <td>0.000000e+00</td>\n",
       "      <td>0.000000e+00</td>\n",
       "    </tr>\n",
       "    <tr>\n",
       "      <th>25%</th>\n",
       "      <td>0.207583</td>\n",
       "      <td>NaN</td>\n",
       "      <td>NaN</td>\n",
       "      <td>NaN</td>\n",
       "      <td>90.000000</td>\n",
       "      <td>NaN</td>\n",
       "      <td>17.000000</td>\n",
       "      <td>5.400000</td>\n",
       "      <td>1995.000000</td>\n",
       "      <td>0.000000e+00</td>\n",
       "      <td>0.000000e+00</td>\n",
       "    </tr>\n",
       "    <tr>\n",
       "      <th>50%</th>\n",
       "      <td>0.383856</td>\n",
       "      <td>NaN</td>\n",
       "      <td>NaN</td>\n",
       "      <td>NaN</td>\n",
       "      <td>99.000000</td>\n",
       "      <td>NaN</td>\n",
       "      <td>38.000000</td>\n",
       "      <td>6.000000</td>\n",
       "      <td>2006.000000</td>\n",
       "      <td>0.000000e+00</td>\n",
       "      <td>0.000000e+00</td>\n",
       "    </tr>\n",
       "    <tr>\n",
       "      <th>75%</th>\n",
       "      <td>0.713817</td>\n",
       "      <td>NaN</td>\n",
       "      <td>NaN</td>\n",
       "      <td>NaN</td>\n",
       "      <td>111.000000</td>\n",
       "      <td>NaN</td>\n",
       "      <td>145.750000</td>\n",
       "      <td>6.600000</td>\n",
       "      <td>2011.000000</td>\n",
       "      <td>2.085325e+07</td>\n",
       "      <td>3.369710e+07</td>\n",
       "    </tr>\n",
       "    <tr>\n",
       "      <th>max</th>\n",
       "      <td>32.985763</td>\n",
       "      <td>NaN</td>\n",
       "      <td>NaN</td>\n",
       "      <td>NaN</td>\n",
       "      <td>900.000000</td>\n",
       "      <td>NaN</td>\n",
       "      <td>9767.000000</td>\n",
       "      <td>9.200000</td>\n",
       "      <td>2015.000000</td>\n",
       "      <td>4.250000e+08</td>\n",
       "      <td>2.827124e+09</td>\n",
       "    </tr>\n",
       "  </tbody>\n",
       "</table>\n",
       "</div>"
      ],
      "text/plain": [
       "          popularity original_title        cast     director       runtime  \\\n",
       "count   10866.000000          10866       10790        10822  10866.000000   \n",
       "unique           NaN          10571       10719         5067           NaN   \n",
       "top              NaN         Hamlet  Louis C.K.  Woody Allen           NaN   \n",
       "freq             NaN              4           6           45           NaN   \n",
       "mean        0.646441            NaN         NaN          NaN    102.070863   \n",
       "std         1.000185            NaN         NaN          NaN     31.381405   \n",
       "min         0.000065            NaN         NaN          NaN      0.000000   \n",
       "25%         0.207583            NaN         NaN          NaN     90.000000   \n",
       "50%         0.383856            NaN         NaN          NaN     99.000000   \n",
       "75%         0.713817            NaN         NaN          NaN    111.000000   \n",
       "max        32.985763            NaN         NaN          NaN    900.000000   \n",
       "\n",
       "        genres    vote_count  vote_average  release_year    budget_adj  \\\n",
       "count    10843  10866.000000  10866.000000  10866.000000  1.086600e+04   \n",
       "unique    2039           NaN           NaN           NaN           NaN   \n",
       "top     Comedy           NaN           NaN           NaN           NaN   \n",
       "freq       712           NaN           NaN           NaN           NaN   \n",
       "mean       NaN    217.389748      5.974922   2001.322658  1.755104e+07   \n",
       "std        NaN    575.619058      0.935142     12.812941  3.430616e+07   \n",
       "min        NaN     10.000000      1.500000   1960.000000  0.000000e+00   \n",
       "25%        NaN     17.000000      5.400000   1995.000000  0.000000e+00   \n",
       "50%        NaN     38.000000      6.000000   2006.000000  0.000000e+00   \n",
       "75%        NaN    145.750000      6.600000   2011.000000  2.085325e+07   \n",
       "max        NaN   9767.000000      9.200000   2015.000000  4.250000e+08   \n",
       "\n",
       "         revenue_adj  \n",
       "count   1.086600e+04  \n",
       "unique           NaN  \n",
       "top              NaN  \n",
       "freq             NaN  \n",
       "mean    5.136436e+07  \n",
       "std     1.446325e+08  \n",
       "min     0.000000e+00  \n",
       "25%     0.000000e+00  \n",
       "50%     0.000000e+00  \n",
       "75%     3.369710e+07  \n",
       "max     2.827124e+09  "
      ]
     },
     "execution_count": 7,
     "metadata": {},
     "output_type": "execute_result"
    }
   ],
   "source": [
    "df.describe(include='all')\n"
   ]
  },
  {
   "cell_type": "markdown",
   "id": "7e4caba7-5d72-4b01-92c5-dcfcfff22928",
   "metadata": {
    "tags": []
   },
   "source": [
    "Insights:\n",
    "\n",
    "Some columns contain NaN values, but the amount is not significant; we don't need to drop all the nulls at the beginning.\n",
    "Data type are all correct. \n",
    "\n",
    "\n",
    "The minimum runtime is 0, which is impossible, and some movies have extremely long runtime, we will investigate the outlier data\n",
    "\n",
    "budget_adj and revenue_adj have minimum and median value as 0 too, which is odd, and the difference from 75% to maximum is huge, we need to investigate in the later anaysis process\n",
    "\n",
    "\n",
    "popularity  , vote_count has very uneven distribution, with some extreme high value data."
   ]
  },
  {
   "cell_type": "markdown",
   "id": "e6b01c71-b14a-4c37-9aeb-7aebe779ac82",
   "metadata": {},
   "source": [
    "#### Data Cleaning\n",
    " "
   ]
  },
  {
   "cell_type": "code",
   "execution_count": 8,
   "id": "8fe2f491-9313-48b0-bdf3-0ada285cd950",
   "metadata": {
    "tags": []
   },
   "outputs": [
    {
     "data": {
      "text/plain": [
       "1"
      ]
     },
     "execution_count": 8,
     "metadata": {},
     "output_type": "execute_result"
    }
   ],
   "source": [
    "sum(df.duplicated()) \n",
    "\n",
    "# how man rows are duplicated "
   ]
  },
  {
   "cell_type": "code",
   "execution_count": 9,
   "id": "c5dc1213-d46b-400b-8613-2078c8bbc9d8",
   "metadata": {
    "tags": []
   },
   "outputs": [
    {
     "data": {
      "text/plain": [
       "0"
      ]
     },
     "execution_count": 9,
     "metadata": {},
     "output_type": "execute_result"
    }
   ],
   "source": [
    "df.drop_duplicates(inplace=True)\n",
    "\n",
    "sum(df.duplicated())"
   ]
  },
  {
   "cell_type": "markdown",
   "id": "3acc1871-dfa3-4bee-b074-5f90ff6b65ea",
   "metadata": {},
   "source": [
    "#### Cleaning abnormal data for runtime\n",
    "\n"
   ]
  },
  {
   "cell_type": "code",
   "execution_count": 10,
   "id": "2c4de79c-a42b-479a-9819-ac328aeda064",
   "metadata": {
    "tags": []
   },
   "outputs": [
    {
     "data": {
      "text/plain": [
       "31"
      ]
     },
     "execution_count": 10,
     "metadata": {},
     "output_type": "execute_result"
    }
   ],
   "source": [
    "# find out how many rows are 0 for runtime \n",
    "\n",
    "sum(df[\"runtime\"]== 0)"
   ]
  },
  {
   "cell_type": "code",
   "execution_count": 11,
   "id": "bde1559e-13c2-42af-b09d-d914d5f16af9",
   "metadata": {
    "tags": []
   },
   "outputs": [],
   "source": [
    "#since it is impossible to have runtime as 0, we will remove these. \n",
    "\n",
    "df=df[df[\"runtime\"]>0]\n"
   ]
  },
  {
   "cell_type": "code",
   "execution_count": 12,
   "id": "11a86627-c55c-4f64-8c42-1e1035ccf180",
   "metadata": {
    "tags": []
   },
   "outputs": [
    {
     "data": {
      "text/plain": [
       "0"
      ]
     },
     "execution_count": 12,
     "metadata": {},
     "output_type": "execute_result"
    }
   ],
   "source": [
    "sum(df[\"runtime\"]==0)\n",
    "#chech the result"
   ]
  },
  {
   "cell_type": "markdown",
   "id": "a5fdf417-d9f9-4e5c-96a6-27b2c7152130",
   "metadata": {},
   "source": [
    "Cleaning anormal data for budget"
   ]
  },
  {
   "cell_type": "code",
   "execution_count": 13,
   "id": "1210789f-aa2d-46cb-a16a-72fef52aa260",
   "metadata": {
    "tags": []
   },
   "outputs": [
    {
     "data": {
      "text/plain": [
       "5668"
      ]
     },
     "execution_count": 13,
     "metadata": {},
     "output_type": "execute_result"
    }
   ],
   "source": [
    "sum(df[\"budget_adj\"]==0)"
   ]
  },
  {
   "cell_type": "code",
   "execution_count": 14,
   "id": "f8101d6f-6f4e-42ee-820a-53c135536c82",
   "metadata": {
    "tags": []
   },
   "outputs": [
    {
     "data": {
      "text/plain": [
       "0"
      ]
     },
     "execution_count": 14,
     "metadata": {},
     "output_type": "execute_result"
    }
   ],
   "source": [
    "# It is impossible to make a movie without any budget, we will remove these data\n",
    "\n",
    "df=df[df[\"budget_adj\"]>0]\n",
    "\n",
    "sum(df[\"budget_adj\"]==0)"
   ]
  },
  {
   "cell_type": "markdown",
   "id": "33897405-b091-472e-a66d-028a8ebf9fdc",
   "metadata": {},
   "source": [
    "Cleaning abnormal data for revenue\n",
    "\n"
   ]
  },
  {
   "cell_type": "code",
   "execution_count": 15,
   "id": "b55d84c6-2257-4085-9d12-7e2d8640dccf",
   "metadata": {
    "tags": []
   },
   "outputs": [
    {
     "data": {
      "text/plain": [
       "1312"
      ]
     },
     "execution_count": 15,
     "metadata": {},
     "output_type": "execute_result"
    }
   ],
   "source": [
    "sum(df[\"revenue_adj\"]==0)"
   ]
  },
  {
   "cell_type": "code",
   "execution_count": 16,
   "id": "a4625483-7f09-4a03-9ee0-e256e109cdbc",
   "metadata": {
    "tags": []
   },
   "outputs": [
    {
     "data": {
      "text/plain": [
       "0"
      ]
     },
     "execution_count": 16,
     "metadata": {},
     "output_type": "execute_result"
    }
   ],
   "source": [
    "# Since we will analyze moview revenue, movies with zero revenue may contain incorrect information, we will remove these data\n",
    "df=df[df[\"revenue_adj\"]>0]\n",
    "\n",
    "# Double check the result\n",
    "sum(df[\"revenue_adj\"]==0)"
   ]
  },
  {
   "cell_type": "code",
   "execution_count": 17,
   "id": "541815fb-802c-44c0-9eed-ecc2f0276910",
   "metadata": {
    "tags": []
   },
   "outputs": [
    {
     "name": "stdout",
     "output_type": "stream",
     "text": [
      "(3854, 11)\n"
     ]
    },
    {
     "data": {
      "text/html": [
       "<div>\n",
       "<style scoped>\n",
       "    .dataframe tbody tr th:only-of-type {\n",
       "        vertical-align: middle;\n",
       "    }\n",
       "\n",
       "    .dataframe tbody tr th {\n",
       "        vertical-align: top;\n",
       "    }\n",
       "\n",
       "    .dataframe thead th {\n",
       "        text-align: right;\n",
       "    }\n",
       "</style>\n",
       "<table border=\"1\" class=\"dataframe\">\n",
       "  <thead>\n",
       "    <tr style=\"text-align: right;\">\n",
       "      <th></th>\n",
       "      <th>popularity</th>\n",
       "      <th>original_title</th>\n",
       "      <th>cast</th>\n",
       "      <th>director</th>\n",
       "      <th>runtime</th>\n",
       "      <th>genres</th>\n",
       "      <th>vote_count</th>\n",
       "      <th>vote_average</th>\n",
       "      <th>release_year</th>\n",
       "      <th>budget_adj</th>\n",
       "      <th>revenue_adj</th>\n",
       "    </tr>\n",
       "  </thead>\n",
       "  <tbody>\n",
       "    <tr>\n",
       "      <th>0</th>\n",
       "      <td>32.985763</td>\n",
       "      <td>Jurassic World</td>\n",
       "      <td>Chris Pratt|Bryce Dallas Howard|Irrfan Khan|Vi...</td>\n",
       "      <td>Colin Trevorrow</td>\n",
       "      <td>124</td>\n",
       "      <td>Action|Adventure|Science Fiction|Thriller</td>\n",
       "      <td>5562</td>\n",
       "      <td>6.5</td>\n",
       "      <td>2015</td>\n",
       "      <td>1.379999e+08</td>\n",
       "      <td>1.392446e+09</td>\n",
       "    </tr>\n",
       "  </tbody>\n",
       "</table>\n",
       "</div>"
      ],
      "text/plain": [
       "   popularity  original_title  \\\n",
       "0   32.985763  Jurassic World   \n",
       "\n",
       "                                                cast         director  \\\n",
       "0  Chris Pratt|Bryce Dallas Howard|Irrfan Khan|Vi...  Colin Trevorrow   \n",
       "\n",
       "   runtime                                     genres  vote_count  \\\n",
       "0      124  Action|Adventure|Science Fiction|Thriller        5562   \n",
       "\n",
       "   vote_average  release_year    budget_adj   revenue_adj  \n",
       "0           6.5          2015  1.379999e+08  1.392446e+09  "
      ]
     },
     "execution_count": 17,
     "metadata": {},
     "output_type": "execute_result"
    }
   ],
   "source": [
    "# Double check the cleaning result\n",
    "print(df.shape)\n",
    "df.head(1)"
   ]
  },
  {
   "cell_type": "markdown",
   "id": "caa9c950-180a-4027-b798-d2f0908aa897",
   "metadata": {},
   "source": [
    "## Exploratory Data Analysis\n"
   ]
  },
  {
   "cell_type": "code",
   "execution_count": 18,
   "id": "456002e2-e75d-4199-8530-0223e5eede6a",
   "metadata": {
    "tags": []
   },
   "outputs": [
    {
     "data": {
      "image/png": "[encoded data removed]",
      "text/plain": [
       "<Figure size 800x500 with 2 Axes>"
      ]
     },
     "metadata": {},
     "output_type": "display_data"
    }
   ],
   "source": [
    "numeric_df = df.select_dtypes(include=['number'])\n",
    "\n",
    "plt.figure(figsize=(8,5))\n",
    "sns.heatmap(numeric_df.corr(), annot=True, cmap='coolwarm')\n",
    "plt.xticks(rotation=45)\n",
    "plt.title('Correlation heatmap for numeric movie data')\n",
    "plt.show()"
   ]
  },
  {
   "cell_type": "markdown",
   "id": "b99e4cbe-7091-4e92-adac-4edec89f4f6e",
   "metadata": {},
   "source": [
    "Insight : \n",
    "revenue_adj is positive-correlated with popularity, vote_count and budget_adj, which makes sense, the more popular, the more vote_count and and more revenues. And high budget movies are expected with high revenue too.\n",
    "\n",
    "popularity and vote_count are strongly correlated eith each other.\n",
    "\n",
    "runtime, vote_average and release_year do not have strong relation with any other columns. \n",
    "\n",
    "In fact release_year is slighly negative-correlated with revenue_adj."
   ]
  },
  {
   "cell_type": "markdown",
   "id": "a420a1d6-3943-4c57-a5cc-c9e06747c807",
   "metadata": {
    "tags": []
   },
   "source": [
    "df['runtime'].plot.hist(title='Runtime distribution for the whole movies data')\n",
    "plt.xlabel('Movie Runtime')\n",
    "plt.show()\n",
    "\n",
    "# plotting distribution for 'vote_average'\n",
    "df['vote_average'].plot.hist(title='Vote_average distribution for the whole movies data')\n",
    "plt.xlabel('Movie Vote_average')\n",
    "plt.show()\n",
    "\n",
    "# plotting distribution for 'release_year'\n",
    "df['release_year'].plot.hist(title=('Movie Release_year Distribution'))\n",
    "plt.show()"
   ]
  },
  {
   "cell_type": "markdown",
   "id": "8f30f03d-5154-4c94-a0bf-73acf748e7a8",
   "metadata": {},
   "source": [
    "\n",
    "Most movies have median length from about 100 minutes to 180 minutes.\n",
    "\n",
    "vote_average has a distribution that looks like normal with average around 6.\n",
    "\n",
    "There are more movies produced over time."
   ]
  },
  {
   "cell_type": "markdown",
   "id": "26947477-292d-4641-a90b-2f4d3ca5c42d",
   "metadata": {
    "tags": []
   },
   "source": [
    "#### Plotting scatter chart to explore detailed relationship between popularity and vote_count, and find out outliers.\n",
    "\n"
   ]
  },
  {
   "cell_type": "code",
   "execution_count": 19,
   "id": "593ac63d-6e5e-4d02-8b60-ca6e73ac3ce4",
   "metadata": {
    "tags": []
   },
   "outputs": [
    {
     "data": {
      "text/plain": [
       "<Axes: xlabel='popularity', ylabel='vote_count'>"
      ]
     },
     "execution_count": 19,
     "metadata": {},
     "output_type": "execute_result"
    },
    {
     "data": {
      "image/png": "[encoded data removed]",
      "text/plain": [
       "<Figure size 640x480 with 1 Axes>"
      ]
     },
     "metadata": {},
     "output_type": "display_data"
    }
   ],
   "source": [
    "df.plot.scatter(x='popularity',y='vote_count')"
   ]
  },
  {
   "cell_type": "markdown",
   "id": "bad58f2d-f146-4a4f-be04-69d96e8d7ef2",
   "metadata": {
    "tags": []
   },
   "source": [
    "From the scatter chart, we can see popularity and vote_count have strong positive correlation, same result as the heatmap; however, we can also notice there are three movies rated extremely high popularity, but vote count is not extremely high.\n",
    "\n",
    "From the heatmap, both popularity and vote_count are positively correlated with moview revenue. If we run regression model to predict movie revenues, we need to choose of one of them as an independent variable, but this is beyond the scope of this project."
   ]
  },
  {
   "cell_type": "markdown",
   "id": "3bf5b95e-81ff-47c1-b8f8-c10d4c5450ba",
   "metadata": {},
   "source": [
    " ####  Plotting scatter charts to furthur explore the relation with revenue_adj for the varibles of popularity, vote_count and budget_adj.\n",
    "\n"
   ]
  },
  {
   "cell_type": "code",
   "execution_count": 20,
   "id": "1dc2a77f-eba7-439e-bd07-002a90239e93",
   "metadata": {
    "tags": []
   },
   "outputs": [
    {
     "data": {
      "text/plain": [
       "<Axes: xlabel='budget_adj', ylabel='revenue_adj'>"
      ]
     },
     "execution_count": 20,
     "metadata": {},
     "output_type": "execute_result"
    },
    {
     "data": {
      "image/png": "[encoded data removed]",
      "text/plain": [
       "<Figure size 640x480 with 1 Axes>"
      ]
     },
     "metadata": {},
     "output_type": "display_data"
    },
    {
     "data": {
      "image/png": "[encoded data removed]",
      "text/plain": [
       "<Figure size 640x480 with 1 Axes>"
      ]
     },
     "metadata": {},
     "output_type": "display_data"
    },
    {
     "data": {
      "image/png": "[encoded data removed]",
      "text/plain": [
       "<Figure size 640x480 with 1 Axes>"
      ]
     },
     "metadata": {},
     "output_type": "display_data"
    }
   ],
   "source": [
    "df.plot.scatter(x='popularity', y='revenue_adj')\n",
    "df.plot.scatter(x='vote_count',y='revenue_adj')\n",
    "df.plot.scatter(x='budget_adj',y='revenue_adj')"
   ]
  },
  {
   "cell_type": "markdown",
   "id": "4edf6d74-62d9-4355-88a0-731aaff3e567",
   "metadata": {},
   "source": [
    "# Question 1. What are the profitibility trend for movie industry?\n"
   ]
  },
  {
   "cell_type": "code",
   "execution_count": 21,
   "id": "cd8ccd75-68d6-42e0-8b46-fe1c53d6529a",
   "metadata": {
    "tags": []
   },
   "outputs": [
    {
     "data": {
      "text/plain": [
       "<Axes: >"
      ]
     },
     "execution_count": 21,
     "metadata": {},
     "output_type": "execute_result"
    },
    {
     "data": {
      "image/png": "[encoded data removed]",
      "text/plain": [
       "<Figure size 640x480 with 1 Axes>"
      ]
     },
     "metadata": {},
     "output_type": "display_data"
    }
   ],
   "source": [
    "# create a column for profit\n",
    "df['profit']=df['revenue_adj']-df['budget_adj']\n",
    "# plot a box chart for the profit column\n",
    "df['profit'].plot.box()"
   ]
  },
  {
   "cell_type": "code",
   "execution_count": 22,
   "id": "a34cc277-cbf0-4c6e-9a77-1159f869a2b0",
   "metadata": {
    "tags": []
   },
   "outputs": [
    {
     "name": "stdout",
     "output_type": "stream",
     "text": [
      "              popularity     runtime  vote_count  vote_average    budget_adj  \\\n",
      "release_year                                                                   \n",
      "1960            1.324513  130.000000  372.600000      7.400000  3.068179e+07   \n",
      "1961            0.787718  132.500000  191.400000      6.620000  2.818516e+07   \n",
      "1962            0.983485  141.285714  229.428571      6.900000  4.062476e+07   \n",
      "1963            1.040612  153.500000  262.333333      6.766667  7.252496e+07   \n",
      "1964            1.377790  122.428571  343.428571      6.971429  3.408189e+07   \n",
      "\n",
      "               revenue_adj        profit  \n",
      "release_year                              \n",
      "1960          1.902299e+08  1.595481e+08  \n",
      "1961          2.463622e+08  2.181770e+08  \n",
      "1962          2.124740e+08  1.718493e+08  \n",
      "1963          2.094838e+08  1.369589e+08  \n",
      "1964          3.300344e+08  2.959526e+08  \n"
     ]
    }
   ],
   "source": [
    "df['release_year'] = pd.to_numeric(df['release_year'], errors='coerce')\n",
    "df = df.dropna(subset=['release_year'])\n",
    "\n",
    "numeric_columns = df.select_dtypes(include=['number']).columns\n",
    "\n",
    "numeric_df = df[numeric_columns]\n",
    "\n",
    "year_mean = numeric_df.groupby('release_year').mean()\n",
    "\n",
    "print(year_mean.head())"
   ]
  },
  {
   "cell_type": "code",
   "execution_count": 23,
   "id": "7223a3c0-2889-439a-af1e-9c2a2adab949",
   "metadata": {
    "tags": []
   },
   "outputs": [
    {
     "data": {
      "image/png": "[encoded data removed]",
      "text/plain": [
       "<Figure size 640x480 with 1 Axes>"
      ]
     },
     "metadata": {},
     "output_type": "display_data"
    }
   ],
   "source": [
    "plt.plot(year_mean.index, year_mean['revenue_adj'], label='Adjusted Revenue')\n",
    "plt.xlabel('Years')\n",
    "plt.ylabel('Adjusted Revenue in terms of 2010 dollars')\n",
    "plt.title('Adjusted Revenue over years')\n",
    "plt.legend()\n",
    "plt.show()"
   ]
  },
  {
   "cell_type": "markdown",
   "id": "141a36d0-c336-40be-819d-0a84188a93ae",
   "metadata": {},
   "source": [
    "Insight : \n",
    "\n",
    " Surprisingly, the average profit per year started to decrease since about 1980; there is less profit to making a movie compared with three decades ago.\n",
    "\n",
    "In the earlier years from 1960 to 1980, film industry have higher profit but with very high fluctuation too. \n",
    "\n",
    "Even though the profit is lower since 1989, but the profit trend is more stable. Probably in the earlier years, film industry is relatively new, and high risk is associated with high profit."
   ]
  },
  {
   "cell_type": "markdown",
   "id": "69277c1c-ff56-4582-add9-f579ee0b50aa",
   "metadata": {},
   "source": [
    "### Question 2. Are newer movies more popular?\n"
   ]
  },
  {
   "cell_type": "code",
   "execution_count": 24,
   "id": "5bbf6fe6-bfba-4347-9021-5dbbc1f0c503",
   "metadata": {
    "tags": []
   },
   "outputs": [
    {
     "data": {
      "text/plain": [
       "<matplotlib.legend.Legend at 0x2028aa8e410>"
      ]
     },
     "execution_count": 24,
     "metadata": {},
     "output_type": "execute_result"
    },
    {
     "data": {
      "image/png": "[encoded data removed]",
      "text/plain": [
       "<Figure size 640x480 with 1 Axes>"
      ]
     },
     "metadata": {},
     "output_type": "display_data"
    }
   ],
   "source": [
    "plt.plot(year_mean.index, year_mean['vote_count'], label='vote_count')\n",
    "plt.xlabel('years')\n",
    "plt.ylabel('vote_count')\n",
    "plt.title('Movie vote_count over years')\n",
    "plt.legend()"
   ]
  },
  {
   "cell_type": "markdown",
   "id": "f13c49a2-c4fa-4850-b7ca-90c4f558ac17",
   "metadata": {},
   "source": [
    "Yes. There is clear trend that the newer movies received more vote count and are more popular.\n"
   ]
  },
  {
   "cell_type": "markdown",
   "id": "5d7a5fe1-73a1-4e64-8c81-5e5f0b2ccff4",
   "metadata": {},
   "source": [
    "### Question 3. What are the top 5 most common movie generes that associated with high revenue?\n"
   ]
  },
  {
   "cell_type": "code",
   "execution_count": 25,
   "id": "de2f986a-4bc4-465e-8d91-55ccdf7354b0",
   "metadata": {
    "tags": []
   },
   "outputs": [
    {
     "data": {
      "text/plain": [
       "min    2.370705e+00\n",
       "50%    6.173068e+07\n",
       "80%    2.033811e+08\n",
       "90%    3.538761e+08\n",
       "max    2.827124e+09\n",
       "Name: revenue_adj, dtype: float64"
      ]
     },
     "execution_count": 25,
     "metadata": {},
     "output_type": "execute_result"
    }
   ],
   "source": [
    "df.revenue_adj.describe([.8,.9]).iloc[3:]\n"
   ]
  },
  {
   "cell_type": "code",
   "execution_count": 26,
   "id": "6b85f690-519b-4d45-8eea-86f8a81a510a",
   "metadata": {
    "tags": []
   },
   "outputs": [
    {
     "data": {
      "text/plain": [
       "revenue_level\n",
       "low          1550\n",
       "very_low     1271\n",
       "very_high     517\n",
       "high          516\n",
       "Name: count, dtype: int64"
      ]
     },
     "execution_count": 26,
     "metadata": {},
     "output_type": "execute_result"
    }
   ],
   "source": [
    "bin_edge=[0, 2.872138e+07, 1.496016e+08, 2.880722e+08, 3e+09]\n",
    "bin_names=['very_low','low','high','very_high']\n",
    "df['revenue_level']=pd.cut(df.revenue_adj,bin_edge,labels=bin_names)\n",
    "df['revenue_level'].value_counts()"
   ]
  },
  {
   "cell_type": "markdown",
   "id": "f0776095-98d7-45bb-8b9c-25a03107e362",
   "metadata": {},
   "source": [
    "Half of the movies have very_low or even negative revenue\n",
    "\n",
    "There are 517 movies with very high_revenue, let's focus on these movies"
   ]
  },
  {
   "cell_type": "code",
   "execution_count": 27,
   "id": "85641846-e448-41bf-a67b-b183a53aacdd",
   "metadata": {
    "tags": []
   },
   "outputs": [
    {
     "data": {
      "text/html": [
       "<div>\n",
       "<style scoped>\n",
       "    .dataframe tbody tr th:only-of-type {\n",
       "        vertical-align: middle;\n",
       "    }\n",
       "\n",
       "    .dataframe tbody tr th {\n",
       "        vertical-align: top;\n",
       "    }\n",
       "\n",
       "    .dataframe thead th {\n",
       "        text-align: right;\n",
       "    }\n",
       "</style>\n",
       "<table border=\"1\" class=\"dataframe\">\n",
       "  <thead>\n",
       "    <tr style=\"text-align: right;\">\n",
       "      <th></th>\n",
       "      <th>popularity</th>\n",
       "      <th>original_title</th>\n",
       "      <th>cast</th>\n",
       "      <th>director</th>\n",
       "      <th>runtime</th>\n",
       "      <th>genres</th>\n",
       "      <th>vote_count</th>\n",
       "      <th>vote_average</th>\n",
       "      <th>release_year</th>\n",
       "      <th>budget_adj</th>\n",
       "      <th>revenue_adj</th>\n",
       "      <th>profit</th>\n",
       "      <th>revenue_level</th>\n",
       "    </tr>\n",
       "  </thead>\n",
       "  <tbody>\n",
       "    <tr>\n",
       "      <th>0</th>\n",
       "      <td>32.985763</td>\n",
       "      <td>Jurassic World</td>\n",
       "      <td>Chris Pratt|Bryce Dallas Howard|Irrfan Khan|Vi...</td>\n",
       "      <td>Colin Trevorrow</td>\n",
       "      <td>124</td>\n",
       "      <td>Action|Adventure|Science Fiction|Thriller</td>\n",
       "      <td>5562</td>\n",
       "      <td>6.5</td>\n",
       "      <td>2015</td>\n",
       "      <td>1.379999e+08</td>\n",
       "      <td>1.392446e+09</td>\n",
       "      <td>1.254446e+09</td>\n",
       "      <td>very_high</td>\n",
       "    </tr>\n",
       "    <tr>\n",
       "      <th>1</th>\n",
       "      <td>28.419936</td>\n",
       "      <td>Mad Max: Fury Road</td>\n",
       "      <td>Tom Hardy|Charlize Theron|Hugh Keays-Byrne|Nic...</td>\n",
       "      <td>George Miller</td>\n",
       "      <td>120</td>\n",
       "      <td>Action|Adventure|Science Fiction|Thriller</td>\n",
       "      <td>6185</td>\n",
       "      <td>7.1</td>\n",
       "      <td>2015</td>\n",
       "      <td>1.379999e+08</td>\n",
       "      <td>3.481613e+08</td>\n",
       "      <td>2.101614e+08</td>\n",
       "      <td>very_high</td>\n",
       "    </tr>\n",
       "    <tr>\n",
       "      <th>3</th>\n",
       "      <td>11.173104</td>\n",
       "      <td>Star Wars: The Force Awakens</td>\n",
       "      <td>Harrison Ford|Mark Hamill|Carrie Fisher|Adam D...</td>\n",
       "      <td>J.J. Abrams</td>\n",
       "      <td>136</td>\n",
       "      <td>Action|Adventure|Science Fiction|Fantasy</td>\n",
       "      <td>5292</td>\n",
       "      <td>7.5</td>\n",
       "      <td>2015</td>\n",
       "      <td>1.839999e+08</td>\n",
       "      <td>1.902723e+09</td>\n",
       "      <td>1.718723e+09</td>\n",
       "      <td>very_high</td>\n",
       "    </tr>\n",
       "    <tr>\n",
       "      <th>4</th>\n",
       "      <td>9.335014</td>\n",
       "      <td>Furious 7</td>\n",
       "      <td>Vin Diesel|Paul Walker|Jason Statham|Michelle ...</td>\n",
       "      <td>James Wan</td>\n",
       "      <td>137</td>\n",
       "      <td>Action|Crime|Thriller</td>\n",
       "      <td>2947</td>\n",
       "      <td>7.3</td>\n",
       "      <td>2015</td>\n",
       "      <td>1.747999e+08</td>\n",
       "      <td>1.385749e+09</td>\n",
       "      <td>1.210949e+09</td>\n",
       "      <td>very_high</td>\n",
       "    </tr>\n",
       "    <tr>\n",
       "      <th>5</th>\n",
       "      <td>9.110700</td>\n",
       "      <td>The Revenant</td>\n",
       "      <td>Leonardo DiCaprio|Tom Hardy|Will Poulter|Domhn...</td>\n",
       "      <td>Alejandro GonzÃ¡lez IÃ±Ã¡rritu</td>\n",
       "      <td>156</td>\n",
       "      <td>Western|Drama|Adventure|Thriller</td>\n",
       "      <td>3929</td>\n",
       "      <td>7.2</td>\n",
       "      <td>2015</td>\n",
       "      <td>1.241999e+08</td>\n",
       "      <td>4.903142e+08</td>\n",
       "      <td>3.661143e+08</td>\n",
       "      <td>very_high</td>\n",
       "    </tr>\n",
       "  </tbody>\n",
       "</table>\n",
       "</div>"
      ],
      "text/plain": [
       "   popularity                original_title  \\\n",
       "0   32.985763                Jurassic World   \n",
       "1   28.419936            Mad Max: Fury Road   \n",
       "3   11.173104  Star Wars: The Force Awakens   \n",
       "4    9.335014                     Furious 7   \n",
       "5    9.110700                  The Revenant   \n",
       "\n",
       "                                                cast  \\\n",
       "0  Chris Pratt|Bryce Dallas Howard|Irrfan Khan|Vi...   \n",
       "1  Tom Hardy|Charlize Theron|Hugh Keays-Byrne|Nic...   \n",
       "3  Harrison Ford|Mark Hamill|Carrie Fisher|Adam D...   \n",
       "4  Vin Diesel|Paul Walker|Jason Statham|Michelle ...   \n",
       "5  Leonardo DiCaprio|Tom Hardy|Will Poulter|Domhn...   \n",
       "\n",
       "                         director  runtime  \\\n",
       "0                 Colin Trevorrow      124   \n",
       "1                   George Miller      120   \n",
       "3                     J.J. Abrams      136   \n",
       "4                       James Wan      137   \n",
       "5  Alejandro GonzÃ¡lez IÃ±Ã¡rritu      156   \n",
       "\n",
       "                                      genres  vote_count  vote_average  \\\n",
       "0  Action|Adventure|Science Fiction|Thriller        5562           6.5   \n",
       "1  Action|Adventure|Science Fiction|Thriller        6185           7.1   \n",
       "3   Action|Adventure|Science Fiction|Fantasy        5292           7.5   \n",
       "4                      Action|Crime|Thriller        2947           7.3   \n",
       "5           Western|Drama|Adventure|Thriller        3929           7.2   \n",
       "\n",
       "   release_year    budget_adj   revenue_adj        profit revenue_level  \n",
       "0          2015  1.379999e+08  1.392446e+09  1.254446e+09     very_high  \n",
       "1          2015  1.379999e+08  3.481613e+08  2.101614e+08     very_high  \n",
       "3          2015  1.839999e+08  1.902723e+09  1.718723e+09     very_high  \n",
       "4          2015  1.747999e+08  1.385749e+09  1.210949e+09     very_high  \n",
       "5          2015  1.241999e+08  4.903142e+08  3.661143e+08     very_high  "
      ]
     },
     "execution_count": 27,
     "metadata": {},
     "output_type": "execute_result"
    }
   ],
   "source": [
    "# Create a dataframe that only contains movies with very high revenues\n",
    "very_high_revenue = df[df['revenue_level']=='very_high']\n",
    "# View top 5 very_high revenue movies\n",
    "very_high_revenue.head()"
   ]
  },
  {
   "cell_type": "markdown",
   "id": "8c20ad77-1183-4c77-81a5-696bdf7f9068",
   "metadata": {},
   "source": [
    "Find out among the very_high profit movies, what kinds of generes are the most common ones.\n",
    "\n"
   ]
  },
  {
   "cell_type": "code",
   "execution_count": 28,
   "id": "e7d372b0-29c6-43ee-b0c3-dbfb6dd578aa",
   "metadata": {
    "tags": []
   },
   "outputs": [
    {
     "data": {
      "text/html": [
       "<div>\n",
       "<style scoped>\n",
       "    .dataframe tbody tr th:only-of-type {\n",
       "        vertical-align: middle;\n",
       "    }\n",
       "\n",
       "    .dataframe tbody tr th {\n",
       "        vertical-align: top;\n",
       "    }\n",
       "\n",
       "    .dataframe thead th {\n",
       "        text-align: right;\n",
       "    }\n",
       "</style>\n",
       "<table border=\"1\" class=\"dataframe\">\n",
       "  <thead>\n",
       "    <tr style=\"text-align: right;\">\n",
       "      <th></th>\n",
       "      <th>0</th>\n",
       "      <th>1</th>\n",
       "      <th>2</th>\n",
       "      <th>3</th>\n",
       "      <th>4</th>\n",
       "    </tr>\n",
       "  </thead>\n",
       "  <tbody>\n",
       "    <tr>\n",
       "      <th>0</th>\n",
       "      <td>Action</td>\n",
       "      <td>Adventure</td>\n",
       "      <td>Science Fiction</td>\n",
       "      <td>Thriller</td>\n",
       "      <td>None</td>\n",
       "    </tr>\n",
       "    <tr>\n",
       "      <th>1</th>\n",
       "      <td>Action</td>\n",
       "      <td>Adventure</td>\n",
       "      <td>Science Fiction</td>\n",
       "      <td>Thriller</td>\n",
       "      <td>None</td>\n",
       "    </tr>\n",
       "    <tr>\n",
       "      <th>3</th>\n",
       "      <td>Action</td>\n",
       "      <td>Adventure</td>\n",
       "      <td>Science Fiction</td>\n",
       "      <td>Fantasy</td>\n",
       "      <td>None</td>\n",
       "    </tr>\n",
       "    <tr>\n",
       "      <th>4</th>\n",
       "      <td>Action</td>\n",
       "      <td>Crime</td>\n",
       "      <td>Thriller</td>\n",
       "      <td>None</td>\n",
       "      <td>None</td>\n",
       "    </tr>\n",
       "    <tr>\n",
       "      <th>5</th>\n",
       "      <td>Western</td>\n",
       "      <td>Drama</td>\n",
       "      <td>Adventure</td>\n",
       "      <td>Thriller</td>\n",
       "      <td>None</td>\n",
       "    </tr>\n",
       "  </tbody>\n",
       "</table>\n",
       "</div>"
      ],
      "text/plain": [
       "         0          1                2         3     4\n",
       "0   Action  Adventure  Science Fiction  Thriller  None\n",
       "1   Action  Adventure  Science Fiction  Thriller  None\n",
       "3   Action  Adventure  Science Fiction   Fantasy  None\n",
       "4   Action      Crime         Thriller      None  None\n",
       "5  Western      Drama        Adventure  Thriller  None"
      ]
     },
     "execution_count": 28,
     "metadata": {},
     "output_type": "execute_result"
    }
   ],
   "source": [
    "# separate the generes with '|' and make it a new table\n",
    "generes = very_high_revenue['genres'].str.split('|', expand=True)\n",
    "# view the first 5 rows of the new table\n",
    "generes.head()"
   ]
  },
  {
   "cell_type": "code",
   "execution_count": 29,
   "id": "573ca61b-4117-4c90-8284-1d4287c7b6b1",
   "metadata": {
    "tags": []
   },
   "outputs": [
    {
     "data": {
      "text/html": [
       "<div>\n",
       "<style scoped>\n",
       "    .dataframe tbody tr th:only-of-type {\n",
       "        vertical-align: middle;\n",
       "    }\n",
       "\n",
       "    .dataframe tbody tr th {\n",
       "        vertical-align: top;\n",
       "    }\n",
       "\n",
       "    .dataframe thead th {\n",
       "        text-align: right;\n",
       "    }\n",
       "</style>\n",
       "<table border=\"1\" class=\"dataframe\">\n",
       "  <thead>\n",
       "    <tr style=\"text-align: right;\">\n",
       "      <th></th>\n",
       "      <th>count</th>\n",
       "    </tr>\n",
       "    <tr>\n",
       "      <th>0</th>\n",
       "      <th></th>\n",
       "    </tr>\n",
       "  </thead>\n",
       "  <tbody>\n",
       "    <tr>\n",
       "      <th>Action</th>\n",
       "      <td>121</td>\n",
       "    </tr>\n",
       "    <tr>\n",
       "      <th>Adventure</th>\n",
       "      <td>116</td>\n",
       "    </tr>\n",
       "    <tr>\n",
       "      <th>Animation</th>\n",
       "      <td>44</td>\n",
       "    </tr>\n",
       "    <tr>\n",
       "      <th>Comedy</th>\n",
       "      <td>63</td>\n",
       "    </tr>\n",
       "    <tr>\n",
       "      <th>Crime</th>\n",
       "      <td>12</td>\n",
       "    </tr>\n",
       "    <tr>\n",
       "      <th>Drama</th>\n",
       "      <td>61</td>\n",
       "    </tr>\n",
       "    <tr>\n",
       "      <th>Family</th>\n",
       "      <td>12</td>\n",
       "    </tr>\n",
       "    <tr>\n",
       "      <th>Fantasy</th>\n",
       "      <td>26</td>\n",
       "    </tr>\n",
       "    <tr>\n",
       "      <th>History</th>\n",
       "      <td>3</td>\n",
       "    </tr>\n",
       "    <tr>\n",
       "      <th>Horror</th>\n",
       "      <td>9</td>\n",
       "    </tr>\n",
       "    <tr>\n",
       "      <th>Music</th>\n",
       "      <td>6</td>\n",
       "    </tr>\n",
       "    <tr>\n",
       "      <th>Mystery</th>\n",
       "      <td>3</td>\n",
       "    </tr>\n",
       "    <tr>\n",
       "      <th>Romance</th>\n",
       "      <td>6</td>\n",
       "    </tr>\n",
       "    <tr>\n",
       "      <th>Science Fiction</th>\n",
       "      <td>21</td>\n",
       "    </tr>\n",
       "    <tr>\n",
       "      <th>Thriller</th>\n",
       "      <td>9</td>\n",
       "    </tr>\n",
       "    <tr>\n",
       "      <th>War</th>\n",
       "      <td>3</td>\n",
       "    </tr>\n",
       "    <tr>\n",
       "      <th>Western</th>\n",
       "      <td>2</td>\n",
       "    </tr>\n",
       "  </tbody>\n",
       "</table>\n",
       "</div>"
      ],
      "text/plain": [
       "                 count\n",
       "0                     \n",
       "Action             121\n",
       "Adventure          116\n",
       "Animation           44\n",
       "Comedy              63\n",
       "Crime               12\n",
       "Drama               61\n",
       "Family              12\n",
       "Fantasy             26\n",
       "History              3\n",
       "Horror               9\n",
       "Music                6\n",
       "Mystery              3\n",
       "Romance              6\n",
       "Science Fiction     21\n",
       "Thriller             9\n",
       "War                  3\n",
       "Western              2"
      ]
     },
     "execution_count": 29,
     "metadata": {},
     "output_type": "execute_result"
    }
   ],
   "source": [
    "# Count the frequency for each genere in column 0 in the generes table, sorted as index.\n",
    "col_0 = generes.loc[:,0].value_counts().sort_index()\n",
    "# Convert the pandas Series to a data frame \n",
    "df_0 = pd.DataFrame(data=col_0, index=col_0.index)\n",
    "# display the new dataframe\n",
    "df_0"
   ]
  },
  {
   "cell_type": "code",
   "execution_count": 30,
   "id": "555d9d59-ac44-42a8-a854-af63e5a4d702",
   "metadata": {
    "tags": []
   },
   "outputs": [],
   "source": [
    "# do the same for other columns:\n",
    "col_1=generes.loc[:,1].value_counts().sort_index()\n",
    "df_1=pd.DataFrame(data=col_1, index=col_1.index)\n",
    "\n",
    "col_2=generes.loc[:,2].value_counts().sort_index()\n",
    "df_2=pd.DataFrame(data=col_2, index=col_2.index)\n",
    "\n",
    "col_3=generes.loc[:,3].value_counts().sort_index()\n",
    "df_3=pd.DataFrame(data=col_3, index=col_3.index)\n",
    "\n",
    "col_4=generes.loc[:,4].value_counts().sort_index()\n",
    "df_4=pd.DataFrame(data=col_4, index=col_4.index)"
   ]
  },
  {
   "cell_type": "code",
   "execution_count": 31,
   "id": "6aa65fa0-8212-445f-b774-9e70a78c8b23",
   "metadata": {
    "tags": []
   },
   "outputs": [
    {
     "name": "stdout",
     "output_type": "stream",
     "text": [
      "           count_df0  count_df1  count  count_df3  count_df4\n",
      "0                                                           \n",
      "Action           121         79     33        3.0        4.0\n",
      "Adventure        116         74     36       14.0        1.0\n",
      "Animation         44         23      9        3.0        2.0\n",
      "Comedy            63         44     37       13.0        5.0\n",
      "Crime             12         16     19       11.0        2.0\n"
     ]
    }
   ],
   "source": [
    "generes_join = df_0.join(df_1, lsuffix='_df0', rsuffix='_df1')\\\n",
    "                   .join(df_2, rsuffix='_df2')\\\n",
    "                   .join(df_3, rsuffix='_df3')\\\n",
    "                   .join(df_4, rsuffix='_df4')\n",
    "\n",
    "# Sonucu kontrol etme\n",
    "print(generes_join.head()) "
   ]
  },
  {
   "cell_type": "code",
   "execution_count": 32,
   "id": "46b96cd7-ceaa-4048-9691-b566c9c0843a",
   "metadata": {},
   "outputs": [
    {
     "name": "stdout",
     "output_type": "stream",
     "text": [
      "           count  count_df1  count_df2  count_df3  count_df4\n",
      "0                                                           \n",
      "Action       121         79         33        3.0        4.0\n",
      "Adventure    116         74         36       14.0        1.0\n",
      "Animation     44         23          9        3.0        2.0\n",
      "Comedy        63         44         37       13.0        5.0\n",
      "Crime         12         16         19       11.0        2.0\n"
     ]
    }
   ],
   "source": [
    "df_1 = df_1.add_suffix('_df1')\n",
    "df_2 = df_2.add_suffix('_df2')\n",
    "df_3 = df_3.add_suffix('_df3')\n",
    "df_4 = df_4.add_suffix('_df4')\n",
    "\n",
    "# DataFrame'leri birleştirme\n",
    "generes_join = df_0.join(df_1).join(df_2).join(df_3).join(df_4)\n",
    "\n",
    "# Sonucu kontrol etme\n",
    "print(generes_join.head())"
   ]
  },
  {
   "cell_type": "code",
   "execution_count": 33,
   "id": "37c5bfd4-96b2-482e-9bc4-6f98b0ce8423",
   "metadata": {
    "tags": []
   },
   "outputs": [
    {
     "data": {
      "text/html": [
       "<div>\n",
       "<style scoped>\n",
       "    .dataframe tbody tr th:only-of-type {\n",
       "        vertical-align: middle;\n",
       "    }\n",
       "\n",
       "    .dataframe tbody tr th {\n",
       "        vertical-align: top;\n",
       "    }\n",
       "\n",
       "    .dataframe thead th {\n",
       "        text-align: right;\n",
       "    }\n",
       "</style>\n",
       "<table border=\"1\" class=\"dataframe\">\n",
       "  <thead>\n",
       "    <tr style=\"text-align: right;\">\n",
       "      <th></th>\n",
       "      <th>count</th>\n",
       "      <th>count_df1</th>\n",
       "      <th>count_df2</th>\n",
       "      <th>count_df3</th>\n",
       "      <th>count_df4</th>\n",
       "    </tr>\n",
       "    <tr>\n",
       "      <th>0</th>\n",
       "      <th></th>\n",
       "      <th></th>\n",
       "      <th></th>\n",
       "      <th></th>\n",
       "      <th></th>\n",
       "    </tr>\n",
       "  </thead>\n",
       "  <tbody>\n",
       "    <tr>\n",
       "      <th>Action</th>\n",
       "      <td>121</td>\n",
       "      <td>79</td>\n",
       "      <td>33</td>\n",
       "      <td>3.0</td>\n",
       "      <td>4.0</td>\n",
       "    </tr>\n",
       "    <tr>\n",
       "      <th>Adventure</th>\n",
       "      <td>116</td>\n",
       "      <td>74</td>\n",
       "      <td>36</td>\n",
       "      <td>14.0</td>\n",
       "      <td>1.0</td>\n",
       "    </tr>\n",
       "    <tr>\n",
       "      <th>Animation</th>\n",
       "      <td>44</td>\n",
       "      <td>23</td>\n",
       "      <td>9</td>\n",
       "      <td>3.0</td>\n",
       "      <td>2.0</td>\n",
       "    </tr>\n",
       "    <tr>\n",
       "      <th>Comedy</th>\n",
       "      <td>63</td>\n",
       "      <td>44</td>\n",
       "      <td>37</td>\n",
       "      <td>13.0</td>\n",
       "      <td>5.0</td>\n",
       "    </tr>\n",
       "    <tr>\n",
       "      <th>Crime</th>\n",
       "      <td>12</td>\n",
       "      <td>16</td>\n",
       "      <td>19</td>\n",
       "      <td>11.0</td>\n",
       "      <td>2.0</td>\n",
       "    </tr>\n",
       "    <tr>\n",
       "      <th>Drama</th>\n",
       "      <td>61</td>\n",
       "      <td>52</td>\n",
       "      <td>32</td>\n",
       "      <td>5.0</td>\n",
       "      <td>1.0</td>\n",
       "    </tr>\n",
       "    <tr>\n",
       "      <th>Family</th>\n",
       "      <td>12</td>\n",
       "      <td>36</td>\n",
       "      <td>40</td>\n",
       "      <td>28.0</td>\n",
       "      <td>9.0</td>\n",
       "    </tr>\n",
       "    <tr>\n",
       "      <th>Fantasy</th>\n",
       "      <td>26</td>\n",
       "      <td>42</td>\n",
       "      <td>23</td>\n",
       "      <td>15.0</td>\n",
       "      <td>10.0</td>\n",
       "    </tr>\n",
       "    <tr>\n",
       "      <th>History</th>\n",
       "      <td>3</td>\n",
       "      <td>5</td>\n",
       "      <td>4</td>\n",
       "      <td>1.0</td>\n",
       "      <td>0.0</td>\n",
       "    </tr>\n",
       "    <tr>\n",
       "      <th>Horror</th>\n",
       "      <td>9</td>\n",
       "      <td>5</td>\n",
       "      <td>3</td>\n",
       "      <td>1.0</td>\n",
       "      <td>1.0</td>\n",
       "    </tr>\n",
       "    <tr>\n",
       "      <th>Music</th>\n",
       "      <td>6</td>\n",
       "      <td>6</td>\n",
       "      <td>3</td>\n",
       "      <td>2.0</td>\n",
       "      <td>4.0</td>\n",
       "    </tr>\n",
       "    <tr>\n",
       "      <th>Mystery</th>\n",
       "      <td>3</td>\n",
       "      <td>13</td>\n",
       "      <td>7</td>\n",
       "      <td>10.0</td>\n",
       "      <td>2.0</td>\n",
       "    </tr>\n",
       "    <tr>\n",
       "      <th>Romance</th>\n",
       "      <td>6</td>\n",
       "      <td>29</td>\n",
       "      <td>20</td>\n",
       "      <td>10.0</td>\n",
       "      <td>5.0</td>\n",
       "    </tr>\n",
       "    <tr>\n",
       "      <th>Science Fiction</th>\n",
       "      <td>21</td>\n",
       "      <td>18</td>\n",
       "      <td>37</td>\n",
       "      <td>32.0</td>\n",
       "      <td>6.0</td>\n",
       "    </tr>\n",
       "    <tr>\n",
       "      <th>Thriller</th>\n",
       "      <td>9</td>\n",
       "      <td>38</td>\n",
       "      <td>66</td>\n",
       "      <td>28.0</td>\n",
       "      <td>7.0</td>\n",
       "    </tr>\n",
       "    <tr>\n",
       "      <th>War</th>\n",
       "      <td>3</td>\n",
       "      <td>1</td>\n",
       "      <td>11</td>\n",
       "      <td>4.0</td>\n",
       "      <td>1.0</td>\n",
       "    </tr>\n",
       "    <tr>\n",
       "      <th>Western</th>\n",
       "      <td>2</td>\n",
       "      <td>2</td>\n",
       "      <td>3</td>\n",
       "      <td>0.0</td>\n",
       "      <td>0.0</td>\n",
       "    </tr>\n",
       "  </tbody>\n",
       "</table>\n",
       "</div>"
      ],
      "text/plain": [
       "                 count  count_df1  count_df2  count_df3  count_df4\n",
       "0                                                                 \n",
       "Action             121         79         33        3.0        4.0\n",
       "Adventure          116         74         36       14.0        1.0\n",
       "Animation           44         23          9        3.0        2.0\n",
       "Comedy              63         44         37       13.0        5.0\n",
       "Crime               12         16         19       11.0        2.0\n",
       "Drama               61         52         32        5.0        1.0\n",
       "Family              12         36         40       28.0        9.0\n",
       "Fantasy             26         42         23       15.0       10.0\n",
       "History              3          5          4        1.0        0.0\n",
       "Horror               9          5          3        1.0        1.0\n",
       "Music                6          6          3        2.0        4.0\n",
       "Mystery              3         13          7       10.0        2.0\n",
       "Romance              6         29         20       10.0        5.0\n",
       "Science Fiction     21         18         37       32.0        6.0\n",
       "Thriller             9         38         66       28.0        7.0\n",
       "War                  3          1         11        4.0        1.0\n",
       "Western              2          2          3        0.0        0.0"
      ]
     },
     "execution_count": 33,
     "metadata": {},
     "output_type": "execute_result"
    }
   ],
   "source": [
    "generes_join.fillna(0)\n"
   ]
  },
  {
   "cell_type": "code",
   "execution_count": 34,
   "id": "91c5f485-06c2-4722-99d9-ce9765fdf22d",
   "metadata": {
    "tags": []
   },
   "outputs": [
    {
     "data": {
      "text/html": [
       "<div>\n",
       "<style scoped>\n",
       "    .dataframe tbody tr th:only-of-type {\n",
       "        vertical-align: middle;\n",
       "    }\n",
       "\n",
       "    .dataframe tbody tr th {\n",
       "        vertical-align: top;\n",
       "    }\n",
       "\n",
       "    .dataframe thead th {\n",
       "        text-align: right;\n",
       "    }\n",
       "</style>\n",
       "<table border=\"1\" class=\"dataframe\">\n",
       "  <thead>\n",
       "    <tr style=\"text-align: right;\">\n",
       "      <th></th>\n",
       "      <th>count</th>\n",
       "      <th>count_df1</th>\n",
       "      <th>count_df2</th>\n",
       "      <th>count_df3</th>\n",
       "      <th>count_df4</th>\n",
       "      <th>sum_generes</th>\n",
       "    </tr>\n",
       "    <tr>\n",
       "      <th>0</th>\n",
       "      <th></th>\n",
       "      <th></th>\n",
       "      <th></th>\n",
       "      <th></th>\n",
       "      <th></th>\n",
       "      <th></th>\n",
       "    </tr>\n",
       "  </thead>\n",
       "  <tbody>\n",
       "    <tr>\n",
       "      <th>Adventure</th>\n",
       "      <td>116</td>\n",
       "      <td>74</td>\n",
       "      <td>36</td>\n",
       "      <td>14.0</td>\n",
       "      <td>1.0</td>\n",
       "      <td>241.0</td>\n",
       "    </tr>\n",
       "    <tr>\n",
       "      <th>Action</th>\n",
       "      <td>121</td>\n",
       "      <td>79</td>\n",
       "      <td>33</td>\n",
       "      <td>3.0</td>\n",
       "      <td>4.0</td>\n",
       "      <td>240.0</td>\n",
       "    </tr>\n",
       "    <tr>\n",
       "      <th>Comedy</th>\n",
       "      <td>63</td>\n",
       "      <td>44</td>\n",
       "      <td>37</td>\n",
       "      <td>13.0</td>\n",
       "      <td>5.0</td>\n",
       "      <td>162.0</td>\n",
       "    </tr>\n",
       "    <tr>\n",
       "      <th>Drama</th>\n",
       "      <td>61</td>\n",
       "      <td>52</td>\n",
       "      <td>32</td>\n",
       "      <td>5.0</td>\n",
       "      <td>1.0</td>\n",
       "      <td>151.0</td>\n",
       "    </tr>\n",
       "    <tr>\n",
       "      <th>Thriller</th>\n",
       "      <td>9</td>\n",
       "      <td>38</td>\n",
       "      <td>66</td>\n",
       "      <td>28.0</td>\n",
       "      <td>7.0</td>\n",
       "      <td>148.0</td>\n",
       "    </tr>\n",
       "  </tbody>\n",
       "</table>\n",
       "</div>"
      ],
      "text/plain": [
       "           count  count_df1  count_df2  count_df3  count_df4  sum_generes\n",
       "0                                                                        \n",
       "Adventure    116         74         36       14.0        1.0        241.0\n",
       "Action       121         79         33        3.0        4.0        240.0\n",
       "Comedy        63         44         37       13.0        5.0        162.0\n",
       "Drama         61         52         32        5.0        1.0        151.0\n",
       "Thriller       9         38         66       28.0        7.0        148.0"
      ]
     },
     "execution_count": 34,
     "metadata": {},
     "output_type": "execute_result"
    }
   ],
   "source": [
    "# calculate the sum of each genere's frequency and create a new column for the sum\n",
    "generes_join['sum_generes'] = generes_join.sum(axis=1)\n",
    "# sort value based on frequency sum and show top 5\n",
    "generes_join.sort_values('sum_generes', ascending=False).head()"
   ]
  },
  {
   "cell_type": "markdown",
   "id": "e79ef51c-75e9-439f-b885-83867b18e095",
   "metadata": {},
   "source": [
    "We can see among these very_high_revenue movies, the generes with 'Action', 'Adventure', 'Comedy','Drama', 'Thriller' are top five generes. "
   ]
  },
  {
   "cell_type": "markdown",
   "id": "70005480-a37e-475b-8baf-6399f034b400",
   "metadata": {},
   "source": [
    "## Question 4. Is it possible to make high profit movies with low budget?\n"
   ]
  },
  {
   "cell_type": "code",
   "execution_count": 35,
   "id": "6fdca1f4-ce7e-4cc0-84fc-e1b84e7e52bf",
   "metadata": {
    "tags": []
   },
   "outputs": [
    {
     "data": {
      "text/plain": [
       "30016111.9054567"
      ]
     },
     "execution_count": 35,
     "metadata": {},
     "output_type": "execute_result"
    }
   ],
   "source": [
    "df.budget_adj.median()\n"
   ]
  },
  {
   "cell_type": "code",
   "execution_count": 37,
   "id": "cf823b4a-27e4-4fb9-83bf-97ef6f45617b",
   "metadata": {
    "tags": []
   },
   "outputs": [
    {
     "name": "stdout",
     "output_type": "stream",
     "text": [
      "Number of low budget movies 1927\n"
     ]
    },
    {
     "data": {
      "text/plain": [
       "revenue_level\n",
       "very_low     1020\n",
       "low           746\n",
       "high          100\n",
       "very_high      61\n",
       "Name: count, dtype: int64"
      ]
     },
     "execution_count": 37,
     "metadata": {},
     "output_type": "execute_result"
    }
   ],
   "source": [
    "# create a table for low_budget movies\n",
    "low_budget=df[df['budget_adj']<30016111.9054567]\n",
    "# check how many rows are in this table\n",
    "print(f'Number of low budget movies {low_budget.shape[0]}')\n",
    "# view the distribution of 'revenue_level' in low_budget movie table\n",
    "low_budget['revenue_level'].value_counts()"
   ]
  },
  {
   "cell_type": "code",
   "execution_count": 38,
   "id": "624da251-164d-41fb-ade2-a65823905087",
   "metadata": {
    "tags": []
   },
   "outputs": [
    {
     "data": {
      "text/plain": [
       "0.0316554229372081"
      ]
     },
     "execution_count": 38,
     "metadata": {},
     "output_type": "execute_result"
    }
   ],
   "source": [
    "# Percentage of very_high revenue movies with low_budget\n",
    "\n",
    "61/1927\n"
   ]
  },
  {
   "cell_type": "markdown",
   "id": "dc01cbf1-55b4-4ad4-9d1b-b4606da186df",
   "metadata": {},
   "source": [
    "There are only 3% of the movies that are made with low budget but yeilded very high revenue; we can conclude that most low budget movies does not yeild high revenue, and from the heatmap earlier, we can see the budget and revenue are positively correlated, higher budget movies generally yield higher revenue.\n"
   ]
  },
  {
   "cell_type": "markdown",
   "id": "444acd3c-7259-4a30-ab84-5ef0e7079375",
   "metadata": {},
   "source": [
    "## Question 5. What are the top 10 rated movies? and how is their profitibility?\n"
   ]
  },
  {
   "cell_type": "code",
   "execution_count": 45,
   "id": "76b94dc9-0bb1-43f5-9bfb-dc1f98e4b647",
   "metadata": {
    "tags": []
   },
   "outputs": [
    {
     "name": "stdout",
     "output_type": "stream",
     "text": [
      "The minimum votes required to be listed in the chart is: 1371.7000000000003\n"
     ]
    }
   ],
   "source": [
    "m= df['vote_count'].quantile(0.9)\n",
    "print(f'The minimum votes required to be listed in the chart is: {m}')"
   ]
  },
  {
   "cell_type": "code",
   "execution_count": 47,
   "id": "c711ef7d-43d7-4e30-b099-59a938751f34",
   "metadata": {
    "tags": []
   },
   "outputs": [
    {
     "name": "stdout",
     "output_type": "stream",
     "text": [
      "The mean vote across the whole report is 527.7202906071614\n"
     ]
    }
   ],
   "source": [
    "C=df['vote_count'].mean()\n",
    "print(f'The mean vote across the whole report is {C}')"
   ]
  },
  {
   "cell_type": "code",
   "execution_count": 49,
   "id": "2e3c6ce1-750e-48e3-bfb2-d280bd7d6a9f",
   "metadata": {
    "tags": []
   },
   "outputs": [
    {
     "name": "stdout",
     "output_type": "stream",
     "text": [
      "Column and row number for the table of top 10% highest rated movies: (386, 13)\n"
     ]
    }
   ],
   "source": [
    "top_10_percent_movies = df.copy().loc[df['vote_count'] >= m]\n",
    "print(f'Column and row number for the table of top 10% highest rated movies: {top_10_percent_movies.shape}')"
   ]
  },
  {
   "cell_type": "code",
   "execution_count": 50,
   "id": "0854eb85-3aa2-4574-8de6-8552b4eeb5f8",
   "metadata": {
    "tags": []
   },
   "outputs": [],
   "source": [
    "def weighted_rating(x, m=m, C=C):\n",
    "    v = x['vote_count']\n",
    "    R = x['vote_average']\n",
    "    # Calculation based on the IMDB formula\n",
    "    return (v/(v+m) * R) + (m/(m+v) * C)\n",
    "\n",
    "# Define a new feature 'score' and calculate its value with `weighted_rating()`\n",
    "top_10_percent_movies['score'] = top_10_percent_movies.apply(weighted_rating, axis=1)"
   ]
  },
  {
   "cell_type": "code",
   "execution_count": 51,
   "id": "8f0f8890-bc38-448f-99fc-33e52341a0b5",
   "metadata": {
    "tags": []
   },
   "outputs": [
    {
     "data": {
      "text/html": [
       "<div>\n",
       "<style scoped>\n",
       "    .dataframe tbody tr th:only-of-type {\n",
       "        vertical-align: middle;\n",
       "    }\n",
       "\n",
       "    .dataframe tbody tr th {\n",
       "        vertical-align: top;\n",
       "    }\n",
       "\n",
       "    .dataframe thead th {\n",
       "        text-align: right;\n",
       "    }\n",
       "</style>\n",
       "<table border=\"1\" class=\"dataframe\">\n",
       "  <thead>\n",
       "    <tr style=\"text-align: right;\">\n",
       "      <th></th>\n",
       "      <th>popularity</th>\n",
       "      <th>original_title</th>\n",
       "      <th>cast</th>\n",
       "      <th>director</th>\n",
       "      <th>runtime</th>\n",
       "      <th>genres</th>\n",
       "      <th>vote_count</th>\n",
       "      <th>vote_average</th>\n",
       "      <th>release_year</th>\n",
       "      <th>budget_adj</th>\n",
       "      <th>revenue_adj</th>\n",
       "      <th>profit</th>\n",
       "      <th>revenue_level</th>\n",
       "      <th>score</th>\n",
       "    </tr>\n",
       "  </thead>\n",
       "  <tbody>\n",
       "    <tr>\n",
       "      <th>2912</th>\n",
       "      <td>1.499784</td>\n",
       "      <td>Cloverfield</td>\n",
       "      <td>Lizzy Caplan|Jessica Lucas|Odette Annable|Mich...</td>\n",
       "      <td>Matt Reeves</td>\n",
       "      <td>85</td>\n",
       "      <td>Action|Thriller|Science Fiction</td>\n",
       "      <td>1373</td>\n",
       "      <td>6.4</td>\n",
       "      <td>2008</td>\n",
       "      <td>2.531967e+07</td>\n",
       "      <td>1.729475e+08</td>\n",
       "      <td>1.476279e+08</td>\n",
       "      <td>high</td>\n",
       "      <td>266.936686</td>\n",
       "    </tr>\n",
       "    <tr>\n",
       "      <th>2643</th>\n",
       "      <td>2.449323</td>\n",
       "      <td>The Mummy Returns</td>\n",
       "      <td>Brendan Fraser|Rachel Weisz|John Hannah|Arnold...</td>\n",
       "      <td>Stephen Sommers</td>\n",
       "      <td>130</td>\n",
       "      <td>Action|Adventure|Drama|Fantasy|Horror</td>\n",
       "      <td>1372</td>\n",
       "      <td>5.8</td>\n",
       "      <td>2001</td>\n",
       "      <td>1.206858e+08</td>\n",
       "      <td>5.332507e+08</td>\n",
       "      <td>4.125649e+08</td>\n",
       "      <td>very_high</td>\n",
       "      <td>266.731612</td>\n",
       "    </tr>\n",
       "    <tr>\n",
       "      <th>6980</th>\n",
       "      <td>2.175284</td>\n",
       "      <td>Ocean's Twelve</td>\n",
       "      <td>George Clooney|Brad Pitt|Catherine Zeta-Jones|...</td>\n",
       "      <td>Steven Soderbergh</td>\n",
       "      <td>125</td>\n",
       "      <td>Thriller|Crime</td>\n",
       "      <td>1376</td>\n",
       "      <td>6.4</td>\n",
       "      <td>2004</td>\n",
       "      <td>1.269890e+08</td>\n",
       "      <td>4.187685e+08</td>\n",
       "      <td>2.917795e+08</td>\n",
       "      <td>very_high</td>\n",
       "      <td>266.652226</td>\n",
       "    </tr>\n",
       "    <tr>\n",
       "      <th>7884</th>\n",
       "      <td>2.484654</td>\n",
       "      <td>Ghostbusters</td>\n",
       "      <td>Bill Murray|Dan Aykroyd|Sigourney Weaver|Harol...</td>\n",
       "      <td>Ivan Reitman</td>\n",
       "      <td>107</td>\n",
       "      <td>Fantasy|Action|Comedy|Science Fiction|Family</td>\n",
       "      <td>1383</td>\n",
       "      <td>7.2</td>\n",
       "      <td>1984</td>\n",
       "      <td>6.297126e+07</td>\n",
       "      <td>6.196634e+08</td>\n",
       "      <td>5.566921e+08</td>\n",
       "      <td>very_high</td>\n",
       "      <td>266.392537</td>\n",
       "    </tr>\n",
       "    <tr>\n",
       "      <th>21</th>\n",
       "      <td>5.337064</td>\n",
       "      <td>Southpaw</td>\n",
       "      <td>Jake Gyllenhaal|Rachel McAdams|Forest Whitaker...</td>\n",
       "      <td>Antoine Fuqua</td>\n",
       "      <td>123</td>\n",
       "      <td>Action|Drama</td>\n",
       "      <td>1386</td>\n",
       "      <td>7.3</td>\n",
       "      <td>2015</td>\n",
       "      <td>2.759999e+07</td>\n",
       "      <td>8.437300e+07</td>\n",
       "      <td>5.677302e+07</td>\n",
       "      <td>low</td>\n",
       "      <td>266.160831</td>\n",
       "    </tr>\n",
       "    <tr>\n",
       "      <th>658</th>\n",
       "      <td>3.813740</td>\n",
       "      <td>Exodus: Gods and Kings</td>\n",
       "      <td>Christian Bale|Joel Edgerton|John Turturro|Aar...</td>\n",
       "      <td>Ridley Scott</td>\n",
       "      <td>153</td>\n",
       "      <td>Adventure|Drama|Action</td>\n",
       "      <td>1377</td>\n",
       "      <td>5.6</td>\n",
       "      <td>2014</td>\n",
       "      <td>1.289527e+08</td>\n",
       "      <td>2.468817e+08</td>\n",
       "      <td>1.179290e+08</td>\n",
       "      <td>high</td>\n",
       "      <td>266.156773</td>\n",
       "    </tr>\n",
       "    <tr>\n",
       "      <th>3416</th>\n",
       "      <td>1.499109</td>\n",
       "      <td>Rango</td>\n",
       "      <td>Johnny Depp|Isla Fisher|Ned Beatty|Bill Nighy|...</td>\n",
       "      <td>Gore Verbinski</td>\n",
       "      <td>107</td>\n",
       "      <td>Animation|Comedy|Family|Western|Adventure</td>\n",
       "      <td>1385</td>\n",
       "      <td>6.5</td>\n",
       "      <td>2011</td>\n",
       "      <td>1.308687e+08</td>\n",
       "      <td>2.382049e+08</td>\n",
       "      <td>1.073362e+08</td>\n",
       "      <td>high</td>\n",
       "      <td>265.852803</td>\n",
       "    </tr>\n",
       "    <tr>\n",
       "      <th>6631</th>\n",
       "      <td>0.890909</td>\n",
       "      <td>The Pursuit of Happyness</td>\n",
       "      <td>Will Smith|Jaden Smith|Thandie Newton|Brian Ho...</td>\n",
       "      <td>Gabriele Muccino</td>\n",
       "      <td>117</td>\n",
       "      <td>Drama</td>\n",
       "      <td>1392</td>\n",
       "      <td>7.5</td>\n",
       "      <td>2006</td>\n",
       "      <td>5.949180e+07</td>\n",
       "      <td>3.321560e+08</td>\n",
       "      <td>2.726642e+08</td>\n",
       "      <td>very_high</td>\n",
       "      <td>265.699578</td>\n",
       "    </tr>\n",
       "    <tr>\n",
       "      <th>6578</th>\n",
       "      <td>1.603140</td>\n",
       "      <td>Blood Diamond</td>\n",
       "      <td>Leonardo DiCaprio|Djimon Hounsou|Jennifer Conn...</td>\n",
       "      <td>Edward Zwick</td>\n",
       "      <td>143</td>\n",
       "      <td>Drama|Thriller|Action</td>\n",
       "      <td>1394</td>\n",
       "      <td>7.2</td>\n",
       "      <td>2006</td>\n",
       "      <td>1.081669e+08</td>\n",
       "      <td>1.848334e+08</td>\n",
       "      <td>7.666646e+07</td>\n",
       "      <td>high</td>\n",
       "      <td>265.361653</td>\n",
       "    </tr>\n",
       "    <tr>\n",
       "      <th>10094</th>\n",
       "      <td>0.142486</td>\n",
       "      <td>Home Alone</td>\n",
       "      <td>Macaulay Culkin|Joe Pesci|Daniel Stern|John He...</td>\n",
       "      <td>Chris Columbus</td>\n",
       "      <td>103</td>\n",
       "      <td>Comedy|Family</td>\n",
       "      <td>1393</td>\n",
       "      <td>7.0</td>\n",
       "      <td>1990</td>\n",
       "      <td>3.004017e+07</td>\n",
       "      <td>7.955384e+08</td>\n",
       "      <td>7.654982e+08</td>\n",
       "      <td>very_high</td>\n",
       "      <td>265.354260</td>\n",
       "    </tr>\n",
       "  </tbody>\n",
       "</table>\n",
       "</div>"
      ],
      "text/plain": [
       "       popularity            original_title  \\\n",
       "2912     1.499784               Cloverfield   \n",
       "2643     2.449323         The Mummy Returns   \n",
       "6980     2.175284            Ocean's Twelve   \n",
       "7884     2.484654              Ghostbusters   \n",
       "21       5.337064                  Southpaw   \n",
       "658      3.813740    Exodus: Gods and Kings   \n",
       "3416     1.499109                     Rango   \n",
       "6631     0.890909  The Pursuit of Happyness   \n",
       "6578     1.603140             Blood Diamond   \n",
       "10094    0.142486                Home Alone   \n",
       "\n",
       "                                                    cast           director  \\\n",
       "2912   Lizzy Caplan|Jessica Lucas|Odette Annable|Mich...        Matt Reeves   \n",
       "2643   Brendan Fraser|Rachel Weisz|John Hannah|Arnold...    Stephen Sommers   \n",
       "6980   George Clooney|Brad Pitt|Catherine Zeta-Jones|...  Steven Soderbergh   \n",
       "7884   Bill Murray|Dan Aykroyd|Sigourney Weaver|Harol...       Ivan Reitman   \n",
       "21     Jake Gyllenhaal|Rachel McAdams|Forest Whitaker...      Antoine Fuqua   \n",
       "658    Christian Bale|Joel Edgerton|John Turturro|Aar...       Ridley Scott   \n",
       "3416   Johnny Depp|Isla Fisher|Ned Beatty|Bill Nighy|...     Gore Verbinski   \n",
       "6631   Will Smith|Jaden Smith|Thandie Newton|Brian Ho...   Gabriele Muccino   \n",
       "6578   Leonardo DiCaprio|Djimon Hounsou|Jennifer Conn...       Edward Zwick   \n",
       "10094  Macaulay Culkin|Joe Pesci|Daniel Stern|John He...     Chris Columbus   \n",
       "\n",
       "       runtime                                        genres  vote_count  \\\n",
       "2912        85               Action|Thriller|Science Fiction        1373   \n",
       "2643       130         Action|Adventure|Drama|Fantasy|Horror        1372   \n",
       "6980       125                                Thriller|Crime        1376   \n",
       "7884       107  Fantasy|Action|Comedy|Science Fiction|Family        1383   \n",
       "21         123                                  Action|Drama        1386   \n",
       "658        153                        Adventure|Drama|Action        1377   \n",
       "3416       107     Animation|Comedy|Family|Western|Adventure        1385   \n",
       "6631       117                                         Drama        1392   \n",
       "6578       143                         Drama|Thriller|Action        1394   \n",
       "10094      103                                 Comedy|Family        1393   \n",
       "\n",
       "       vote_average  release_year    budget_adj   revenue_adj        profit  \\\n",
       "2912            6.4          2008  2.531967e+07  1.729475e+08  1.476279e+08   \n",
       "2643            5.8          2001  1.206858e+08  5.332507e+08  4.125649e+08   \n",
       "6980            6.4          2004  1.269890e+08  4.187685e+08  2.917795e+08   \n",
       "7884            7.2          1984  6.297126e+07  6.196634e+08  5.566921e+08   \n",
       "21              7.3          2015  2.759999e+07  8.437300e+07  5.677302e+07   \n",
       "658             5.6          2014  1.289527e+08  2.468817e+08  1.179290e+08   \n",
       "3416            6.5          2011  1.308687e+08  2.382049e+08  1.073362e+08   \n",
       "6631            7.5          2006  5.949180e+07  3.321560e+08  2.726642e+08   \n",
       "6578            7.2          2006  1.081669e+08  1.848334e+08  7.666646e+07   \n",
       "10094           7.0          1990  3.004017e+07  7.955384e+08  7.654982e+08   \n",
       "\n",
       "      revenue_level       score  \n",
       "2912           high  266.936686  \n",
       "2643      very_high  266.731612  \n",
       "6980      very_high  266.652226  \n",
       "7884      very_high  266.392537  \n",
       "21              low  266.160831  \n",
       "658            high  266.156773  \n",
       "3416           high  265.852803  \n",
       "6631      very_high  265.699578  \n",
       "6578           high  265.361653  \n",
       "10094     very_high  265.354260  "
      ]
     },
     "execution_count": 51,
     "metadata": {},
     "output_type": "execute_result"
    }
   ],
   "source": [
    "top_10_percent_movies.sort_values('score',ascending=False).head(10)\n"
   ]
  },
  {
   "cell_type": "code",
   "execution_count": 52,
   "id": "41d7bfe6-0419-41bf-83bc-66cf7081d3b8",
   "metadata": {
    "tags": []
   },
   "outputs": [
    {
     "data": {
      "text/plain": [
       "revenue_level\n",
       "very_high    242\n",
       "high          75\n",
       "low           64\n",
       "very_low       5\n",
       "Name: count, dtype: int64"
      ]
     },
     "execution_count": 52,
     "metadata": {},
     "output_type": "execute_result"
    }
   ],
   "source": [
    "top_10_percent_movies['revenue_level'].value_counts()\n"
   ]
  },
  {
   "cell_type": "markdown",
   "id": "86d25d53-9728-4cf0-af94-5ce420723505",
   "metadata": {},
   "source": [
    "Above are the movies with highest rating score, as we can see, most have high or very_high revenue too, but it is different from the top_10_profit movies.\n"
   ]
  },
  {
   "cell_type": "code",
   "execution_count": null,
   "id": "9510dc2e-d7cb-495e-b715-0c6be5fc47e6",
   "metadata": {},
   "outputs": [],
   "source": []
  }
 ],
 "metadata": {
  "kernelspec": {
   "display_name": "Python 3 (ipykernel)",
   "language": "python",
   "name": "python3"
  },
  "language_info": {
   "codemirror_mode": {
    "name": "ipython",
    "version": 3
   },
   "file_extension": ".py",
   "mimetype": "text/x-python",
   "name": "python",
   "nbconvert_exporter": "python",
   "pygments_lexer": "ipython3",
   "version": "3.11.5"
  }
 },
 "nbformat": 4,
 "nbformat_minor": 5
}
